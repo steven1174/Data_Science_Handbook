{
  "nbformat": 4,
  "nbformat_minor": 0,
  "metadata": {
    "colab": {
      "name": "3.Computation on NumPy Arrays: Universal Functions.ipynb",
      "provenance": [],
      "authorship_tag": "ABX9TyNNrIHAxc9WUXgeaAeVZmyo",
      "include_colab_link": true
    },
    "kernelspec": {
      "name": "python3",
      "display_name": "Python 3"
    }
  },
  "cells": [
    {
      "cell_type": "markdown",
      "metadata": {
        "id": "view-in-github",
        "colab_type": "text"
      },
      "source": [
        "<a href=\"https://colab.research.google.com/github/steven1174/Data_Science_Handbook/blob/main/3_Computation_on_NumPy_Arrays_Universal_Functions.ipynb\" target=\"_parent\"><img src=\"https://colab.research.google.com/assets/colab-badge.svg\" alt=\"Open In Colab\"/></a>"
      ]
    },
    {
      "cell_type": "markdown",
      "metadata": {
        "id": "sAKZiIaIvBaH"
      },
      "source": [
        "# Computation on NumPy Arrays: Universal Functions\r\n",
        "Computation on NumPy arrays can be very fast, or it can be very slow. The key to making it fast is to use vectorized operations, generally implemented through NumPy’s universal functions (ufuncs). This section motivates the need for NumPy’s ufuncs, which can be used to make repeated calculations on array elements much more efficient. It then introduces many of the most common and useful arithmetic ufuncs\r\n",
        "available in the NumPy package.\r\n",
        "## The Slowness of Loops\r\n"
      ]
    },
    {
      "cell_type": "code",
      "metadata": {
        "colab": {
          "base_uri": "https://localhost:8080/"
        },
        "id": "U-yRfOFHwEpr",
        "outputId": "73f55b59-a930-48c3-b90a-f2546ea2a527"
      },
      "source": [
        "import numpy as np\r\n",
        "\r\n",
        "np.random.seed(0)\r\n",
        "\r\n",
        "def compute_reciprocals(values):\r\n",
        "  output = np.empty(len(values))\r\n",
        "\r\n",
        "  for i in range(len(values)):\r\n",
        "    output[i] = 1.0 / values[i]\r\n",
        "  return output\r\n",
        "\r\n",
        "values = np.random.randint(1, 10, size=5)\r\n",
        "\r\n",
        "print(values)\r\n",
        "print(compute_reciprocals(values))"
      ],
      "execution_count": 1,
      "outputs": [
        {
          "output_type": "stream",
          "text": [
            "[6 1 4 4 8]\n",
            "[0.16666667 1.         0.25       0.25       0.125     ]\n"
          ],
          "name": "stdout"
        }
      ]
    },
    {
      "cell_type": "code",
      "metadata": {
        "colab": {
          "base_uri": "https://localhost:8080/"
        },
        "id": "wApjamzIvFZ_",
        "outputId": "9bfc4637-0aaa-4c2f-c0a3-bf53323b1482"
      },
      "source": [
        "big_array = np.random.randint(1, 100, size=1000000)\r\n",
        "%timeit compute_reciprocals(big_array)"
      ],
      "execution_count": 2,
      "outputs": [
        {
          "output_type": "stream",
          "text": [
            "1 loop, best of 3: 2.17 s per loop\n"
          ],
          "name": "stdout"
        }
      ]
    },
    {
      "cell_type": "markdown",
      "metadata": {
        "id": "yMJSjH6kxbVr"
      },
      "source": [
        "## Introducing UFuncs"
      ]
    },
    {
      "cell_type": "code",
      "metadata": {
        "colab": {
          "base_uri": "https://localhost:8080/"
        },
        "id": "ztiGDb3bxadz",
        "outputId": "3782ccb5-244f-49ed-b627-78bde2f7e2c6"
      },
      "source": [
        "print(compute_reciprocals(values))\r\n",
        "print(1.0 / values)"
      ],
      "execution_count": 3,
      "outputs": [
        {
          "output_type": "stream",
          "text": [
            "[0.16666667 1.         0.25       0.25       0.125     ]\n",
            "[0.16666667 1.         0.25       0.25       0.125     ]\n"
          ],
          "name": "stdout"
        }
      ]
    },
    {
      "cell_type": "code",
      "metadata": {
        "colab": {
          "base_uri": "https://localhost:8080/"
        },
        "id": "5Nbmcdnox29Q",
        "outputId": "9b3422cd-886d-4db1-af7d-33283da948e8"
      },
      "source": [
        "%timeit (1.0 / big_array)"
      ],
      "execution_count": 4,
      "outputs": [
        {
          "output_type": "stream",
          "text": [
            "1000 loops, best of 3: 1.56 ms per loop\n"
          ],
          "name": "stdout"
        }
      ]
    },
    {
      "cell_type": "code",
      "metadata": {
        "colab": {
          "base_uri": "https://localhost:8080/"
        },
        "id": "i0sWaNl-yAlP",
        "outputId": "9747cbf8-72a0-45ac-f74a-0b9e31d8f2c2"
      },
      "source": [
        "np.arange(5) / np.arange(1, 6)"
      ],
      "execution_count": 5,
      "outputs": [
        {
          "output_type": "execute_result",
          "data": {
            "text/plain": [
              "array([0.        , 0.5       , 0.66666667, 0.75      , 0.8       ])"
            ]
          },
          "metadata": {
            "tags": []
          },
          "execution_count": 5
        }
      ]
    },
    {
      "cell_type": "code",
      "metadata": {
        "colab": {
          "base_uri": "https://localhost:8080/"
        },
        "id": "GUVsNVaJyMi1",
        "outputId": "ff0cc57d-6050-4025-e966-c949a5abf5bd"
      },
      "source": [
        "x = np.arange(9).reshape((3,3))\r\n",
        "2 ** x"
      ],
      "execution_count": 14,
      "outputs": [
        {
          "output_type": "execute_result",
          "data": {
            "text/plain": [
              "array([[  1,   2,   4],\n",
              "       [  8,  16,  32],\n",
              "       [ 64, 128, 256]])"
            ]
          },
          "metadata": {
            "tags": []
          },
          "execution_count": 14
        }
      ]
    },
    {
      "cell_type": "markdown",
      "metadata": {
        "id": "GzsF9zF0y9ii"
      },
      "source": [
        "## Exploring NumPy’s UFuncs\r\n",
        "Ufuncs exist in two flavors: \r\n",
        "- *Unary ufuncs*, which operate on a single input.\r\n",
        "- *Binary ufuncs*, which operate on two inputs.\r\n",
        "### Array arithmetic"
      ]
    },
    {
      "cell_type": "code",
      "metadata": {
        "colab": {
          "base_uri": "https://localhost:8080/"
        },
        "id": "WO9gHtMyy3tu",
        "outputId": "b538f79b-9d46-475f-dec2-17db99cc48a5"
      },
      "source": [
        "x = np.arange(4)\r\n",
        "print(\"x     =\", x)\r\n",
        "print(\"x + 5 =\", x + 5)\r\n",
        "print(\"x - 5 =\", x - 5)\r\n",
        "print(\"x * 2 =\", x * 2)\r\n",
        "print(\"x / 2 =\", x / 2)\r\n",
        "print(\"x //2 =\", x // 2) # floor division"
      ],
      "execution_count": 17,
      "outputs": [
        {
          "output_type": "stream",
          "text": [
            "x     = [0 1 2 3]\n",
            "x + 5 = [5 6 7 8]\n",
            "x - 5 = [-5 -4 -3 -2]\n",
            "x * 2 = [0 2 4 6]\n",
            "x / 2 = [0.  0.5 1.  1.5]\n",
            "x //2 = [0 0 1 1]\n"
          ],
          "name": "stdout"
        }
      ]
    },
    {
      "cell_type": "code",
      "metadata": {
        "colab": {
          "base_uri": "https://localhost:8080/"
        },
        "id": "Of7JgdoHzudu",
        "outputId": "4ecd5092-aff3-40b1-9bb2-08316620827c"
      },
      "source": [
        "print(\"-x     = \", -x)\r\n",
        "print(\"x ** 2 = \", x ** 2)\r\n",
        "print(\"x % 2  = \", x % 2)"
      ],
      "execution_count": 18,
      "outputs": [
        {
          "output_type": "stream",
          "text": [
            "-x     =  [ 0 -1 -2 -3]\n",
            "x ** 2 =  [0 1 4 9]\n",
            "x % 2  =  [0 1 0 1]\n"
          ],
          "name": "stdout"
        }
      ]
    },
    {
      "cell_type": "code",
      "metadata": {
        "colab": {
          "base_uri": "https://localhost:8080/"
        },
        "id": "AzvKsf4Hz1qE",
        "outputId": "1a2b99c3-e78d-4287-947e-da8175ec3639"
      },
      "source": [
        "np.add(x, 2)"
      ],
      "execution_count": 19,
      "outputs": [
        {
          "output_type": "execute_result",
          "data": {
            "text/plain": [
              "array([2, 3, 4, 5])"
            ]
          },
          "metadata": {
            "tags": []
          },
          "execution_count": 19
        }
      ]
    },
    {
      "cell_type": "markdown",
      "metadata": {
        "id": "b5yEl4LQ0Whd"
      },
      "source": [
        "<html>\r\n",
        "<head>\r\n",
        "<style>\r\n",
        "table {\r\n",
        "  font-family: Times New Roman, sans-serif;\r\n",
        "  width: 100%;\r\n",
        "}\r\n",
        "td, th {\r\n",
        "  border: 2px solid #dddddd;\r\n",
        "  text-align: center;\r\n",
        "  padding: 8px;\r\n",
        "}\r\n",
        "tr:nth-child(even) {\r\n",
        "  background-color: #dddddd;\r\n",
        "}\r\n",
        "</style>\r\n",
        "</head>\r\n",
        "\r\n",
        "<body>\r\n",
        "<table>\r\n",
        "  <tr>  \r\n",
        "    <th>Operator</th>\r\n",
        "    <th>Equivalent ufunc</th>\r\n",
        "    <th>Description</th>\r\n",
        "  </tr>\r\n",
        "  <tr>\r\n",
        "    <td>+</td>\r\n",
        "    <td>np.add</td>\r\n",
        "    <td>Addition (e.g., 1 + 1 = 2)</td>\r\n",
        "  </tr>\r\n",
        "  <tr>\r\n",
        "    <td>-</td>\r\n",
        "    <td>np.subtract</td>\r\n",
        "    <td>Subtraction (e.g., 3 - 2 = 1)</td>\r\n",
        "  </tr>\r\n",
        "  <tr>\r\n",
        "    <td>-</td>\r\n",
        "    <td>np.negative</td>\r\n",
        "    <td>Unary negation (e.g., -2)</td>\r\n",
        "  </tr>\r\n",
        "  <tr>\r\n",
        "    <td>*</td>\r\n",
        "    <td>np.multiply</td>\r\n",
        "    <td>Multiplication (e.g., 2 * 3 = 6)</td>\r\n",
        "  </tr>\r\n",
        "  <tr>\r\n",
        "    <td>/</td>\r\n",
        "    <td>np.divide</td>\r\n",
        "    <td>Division (e.g., 3 / 2 = 1.5)</td>\r\n",
        "  </tr>\r\n",
        "  <tr>\r\n",
        "    <td>//</td>\r\n",
        "    <td>np.floor_divide</td>\r\n",
        "    <td>Floor division (e.g., 3 // 2 = 1)</td>\r\n",
        "  </tr>\r\n",
        "  <tr>\r\n",
        "    <td>**</td>\r\n",
        "    <td>np.power</td>\r\n",
        "    <td>Exponentiation (e.g., 2 ** 3 = 8)</td>\r\n",
        "  </tr>\r\n",
        "  <tr>\r\n",
        "    <td>%</td>\r\n",
        "    <td>np.mod</td>\r\n",
        "    <td>Modulus/remainder (e.g., 9 % 4 = 1)</td>\r\n",
        "  </tr>\r\n",
        "</table>\r\n",
        "\r\n",
        "</body>\r\n",
        "</html>"
      ]
    },
    {
      "cell_type": "markdown",
      "metadata": {
        "id": "kpxeb2BQ4LoW"
      },
      "source": [
        "### Absolute value"
      ]
    },
    {
      "cell_type": "code",
      "metadata": {
        "colab": {
          "base_uri": "https://localhost:8080/"
        },
        "id": "GXQztgQVyTo0",
        "outputId": "8056b2d8-294e-4668-8d75-d8726f925e62"
      },
      "source": [
        "x = np.array([-2, -1, 0, 1, 2])\r\n",
        "abs(x)"
      ],
      "execution_count": 20,
      "outputs": [
        {
          "output_type": "execute_result",
          "data": {
            "text/plain": [
              "array([2, 1, 0, 1, 2])"
            ]
          },
          "metadata": {
            "tags": []
          },
          "execution_count": 20
        }
      ]
    },
    {
      "cell_type": "code",
      "metadata": {
        "colab": {
          "base_uri": "https://localhost:8080/"
        },
        "id": "iKN_VtCE7H4f",
        "outputId": "cfbe77d8-6aef-4cbe-f78e-6e7d255e2426"
      },
      "source": [
        "print(np.absolute(x))\r\n",
        "print(np.abs(x))"
      ],
      "execution_count": 21,
      "outputs": [
        {
          "output_type": "execute_result",
          "data": {
            "text/plain": [
              "array([2, 1, 0, 1, 2])"
            ]
          },
          "metadata": {
            "tags": []
          },
          "execution_count": 21
        }
      ]
    },
    {
      "cell_type": "code",
      "metadata": {
        "colab": {
          "base_uri": "https://localhost:8080/"
        },
        "id": "VuAdc-dY7Isz",
        "outputId": "0ad2ef96-e84e-4f2f-820c-5a5353f7435c"
      },
      "source": [
        "x = np.array([3 - 4j, 4 - 3j, 2 + 0j, 0 + 1j])\r\n",
        "np.abs(x)"
      ],
      "execution_count": 22,
      "outputs": [
        {
          "output_type": "execute_result",
          "data": {
            "text/plain": [
              "array([5., 5., 2., 1.])"
            ]
          },
          "metadata": {
            "tags": []
          },
          "execution_count": 22
        }
      ]
    },
    {
      "cell_type": "markdown",
      "metadata": {
        "id": "aTzL2RIQ7gPs"
      },
      "source": [
        "### Trigonometric functions"
      ]
    },
    {
      "cell_type": "code",
      "metadata": {
        "id": "4aNuh0Cx7fbu"
      },
      "source": [
        "theta = np.linspace(0, np.pi, 3)"
      ],
      "execution_count": 25,
      "outputs": []
    },
    {
      "cell_type": "code",
      "metadata": {
        "colab": {
          "base_uri": "https://localhost:8080/"
        },
        "id": "eMhvMpWn7YUg",
        "outputId": "f1f05272-1320-43a2-a904-3838ebc955ca"
      },
      "source": [
        "print(\"theta      =\", theta)\r\n",
        "print(\"sin(theta) =\", np.sin(theta))\r\n",
        "print(\"cos(theta) =\", np.cos(theta))\r\n",
        "print(\"tan(theta) =\", np.tan(theta))"
      ],
      "execution_count": 27,
      "outputs": [
        {
          "output_type": "stream",
          "text": [
            "theta      = [0.         1.57079633 3.14159265]\n",
            "sin(theta) = [0.0000000e+00 1.0000000e+00 1.2246468e-16]\n",
            "cos(theta) = [ 1.000000e+00  6.123234e-17 -1.000000e+00]\n",
            "tan(theta) = [ 0.00000000e+00  1.63312394e+16 -1.22464680e-16]\n"
          ],
          "name": "stdout"
        }
      ]
    },
    {
      "cell_type": "code",
      "metadata": {
        "colab": {
          "base_uri": "https://localhost:8080/"
        },
        "id": "qDm9Kg_y76iD",
        "outputId": "76888051-7ad3-4e1b-dcbc-0789739d35db"
      },
      "source": [
        "x = [-1, 0, 1]\r\n",
        "print(\"x         = \",x)\r\n",
        "print(\"arcsin(x) = \",np.arcsin(x))\r\n",
        "print(\"arccos(x) = \",np.arccos(x))\r\n",
        "print(\"arctan(x) = \",np.arctan(x))"
      ],
      "execution_count": 28,
      "outputs": [
        {
          "output_type": "stream",
          "text": [
            "x         =  [-1, 0, 1]\n",
            "arcsin(x) =  [-1.57079633  0.          1.57079633]\n",
            "arccos(x) =  [3.14159265 1.57079633 0.        ]\n",
            "arctan(x) =  [-0.78539816  0.          0.78539816]\n"
          ],
          "name": "stdout"
        }
      ]
    },
    {
      "cell_type": "markdown",
      "metadata": {
        "id": "SdfqkrmH8K4b"
      },
      "source": [
        "### Exponents and logarithms"
      ]
    },
    {
      "cell_type": "code",
      "metadata": {
        "colab": {
          "base_uri": "https://localhost:8080/"
        },
        "id": "_9tMWGUm8ImU",
        "outputId": "03d5fe7d-1d4f-4424-8f31-bbc1f956ccb1"
      },
      "source": [
        "x = [1, 2, 3]\r\n",
        "print(\"x   =\", x)\r\n",
        "print(\"e^x =\", np.exp(x))\r\n",
        "print(\"2^x =\", np.exp2(x))\r\n",
        "print(\"3^x =\", np.power(3, x))"
      ],
      "execution_count": 33,
      "outputs": [
        {
          "output_type": "stream",
          "text": [
            "x   = [1, 2, 3]\n",
            "e^x = [ 2.71828183  7.3890561  20.08553692]\n",
            "2^x = [2. 4. 8.]\n",
            "3^x = [ 3  9 27]\n"
          ],
          "name": "stdout"
        }
      ]
    },
    {
      "cell_type": "code",
      "metadata": {
        "colab": {
          "base_uri": "https://localhost:8080/"
        },
        "id": "ifXLiNjC9vZo",
        "outputId": "32092877-ee5f-484d-b903-84f92430f197"
      },
      "source": [
        "x = [1, 2, 4, 10]\r\n",
        "print(\"x =\", x)\r\n",
        "print(\"ln(x) =\", np.log(x))\r\n",
        "print(\"log2(x) =\", np.log2(x))\r\n",
        "print(\"log10(x) =\", np.log10(x))"
      ],
      "execution_count": 34,
      "outputs": [
        {
          "output_type": "stream",
          "text": [
            "x = [1, 2, 4, 10]\n",
            "ln(x) = [0.         0.69314718 1.38629436 2.30258509]\n",
            "log2(x) = [0.         1.         2.         3.32192809]\n",
            "log10(x) = [0.         0.30103    0.60205999 1.        ]\n"
          ],
          "name": "stdout"
        }
      ]
    },
    {
      "cell_type": "code",
      "metadata": {
        "colab": {
          "base_uri": "https://localhost:8080/"
        },
        "id": "iGPY5FvG-PUL",
        "outputId": "1dbe4f5d-ba82-4fb3-9932-ec61bae5a2f7"
      },
      "source": [
        "x = [0, 0.001, 0.01, 0.1]\r\n",
        "print(\"exp(x) - 1 =\", np.expm1(x))\r\n",
        "print(\"log(1 + x) =\", np.log1p(x))"
      ],
      "execution_count": 35,
      "outputs": [
        {
          "output_type": "stream",
          "text": [
            "exp(x) - 1 = [0.         0.0010005  0.01005017 0.10517092]\n",
            "log(1 + x) = [0.         0.0009995  0.00995033 0.09531018]\n"
          ],
          "name": "stdout"
        }
      ]
    },
    {
      "cell_type": "markdown",
      "metadata": {
        "id": "iPXrM4cj-bwg"
      },
      "source": [
        "### Specialized ufuncs\r\n",
        "NumPy has many more ufuncs available, including hyperbolic trig functions, bitwise arithmetic, comparison operators, conversions from radians to degrees, rounding and remainders, and much more. A look through the NumPy documentation reveals a lot of interesting functionality."
      ]
    },
    {
      "cell_type": "code",
      "metadata": {
        "colab": {
          "base_uri": "https://localhost:8080/"
        },
        "id": "8JZCfhDa-XUz",
        "outputId": "ca79f141-41b3-441e-cdd1-9dd1e2e0a5a1"
      },
      "source": [
        "from scipy import special\r\n",
        "\r\n",
        "# Gamma functions (generalized factorials) and related functions\r\n",
        "x = [1, 5, 10]\r\n",
        "print(\"gamma(x)     =\", special.gamma(x))\r\n",
        "print(\"ln|gamma(x)| =\", special.gammaln(x))\r\n",
        "print(\"beta(x, 2)   =\", special.beta(x, 2))"
      ],
      "execution_count": 37,
      "outputs": [
        {
          "output_type": "stream",
          "text": [
            "gamma(x)     = [1.0000e+00 2.4000e+01 3.6288e+05]\n",
            "ln|gamma(x)| = [ 0.          3.17805383 12.80182748]\n",
            "beta(x, 2)   = [0.5        0.03333333 0.00909091]\n"
          ],
          "name": "stdout"
        }
      ]
    },
    {
      "cell_type": "code",
      "metadata": {
        "colab": {
          "base_uri": "https://localhost:8080/"
        },
        "id": "90_EZzVd_1Hj",
        "outputId": "ae739f01-f5c0-4a6f-e53a-d802f7547ad7"
      },
      "source": [
        "# Error function (integral of Gaussian)\r\n",
        "# its complement, and its inverse\r\n",
        "\r\n",
        "x = np.array([0, 0.3, 0.7, 1.0])\r\n",
        "print(\"erf(x) =\", special.erf(x))\r\n",
        "print(\"erfc(x) =\", special.erfc(x))\r\n",
        "print(\"erfinv(x) =\", special.erfinv(x))"
      ],
      "execution_count": 38,
      "outputs": [
        {
          "output_type": "stream",
          "text": [
            "erf(x) = [0.         0.32862676 0.67780119 0.84270079]\n",
            "erfc(x) = [1.         0.67137324 0.32219881 0.15729921]\n",
            "erfinv(x) = [0.         0.27246271 0.73286908        inf]\n"
          ],
          "name": "stdout"
        }
      ]
    },
    {
      "cell_type": "markdown",
      "metadata": {
        "id": "LH_lDJ0o_CA-"
      },
      "source": [
        "## Advanced Ufunc Features\r\n",
        "### Specifying output"
      ]
    },
    {
      "cell_type": "code",
      "metadata": {
        "colab": {
          "base_uri": "https://localhost:8080/"
        },
        "id": "oTKy7A4S_Eqe",
        "outputId": "dc0ff4fe-eb12-4ba7-ff77-0e9cf4dd5ab9"
      },
      "source": [
        "x = np.arange(5)\r\n",
        "y = np.empty(5)\r\n",
        "np.multiply(x, 10, out=y)\r\n",
        "print(y)"
      ],
      "execution_count": 39,
      "outputs": [
        {
          "output_type": "stream",
          "text": [
            "[ 0. 10. 20. 30. 40.]\n"
          ],
          "name": "stdout"
        }
      ]
    },
    {
      "cell_type": "code",
      "metadata": {
        "colab": {
          "base_uri": "https://localhost:8080/"
        },
        "id": "a9JBBWpNAbNd",
        "outputId": "566f53f3-2507-4e3d-9cb2-d40f720d113d"
      },
      "source": [
        "y = np.zeros(10)\r\n",
        "np.power(2, x, out=y[::2])\r\n",
        "print(y)"
      ],
      "execution_count": 40,
      "outputs": [
        {
          "output_type": "stream",
          "text": [
            "[ 1.  0.  2.  0.  4.  0.  8.  0. 16.  0.]\n"
          ],
          "name": "stdout"
        }
      ]
    },
    {
      "cell_type": "markdown",
      "metadata": {
        "id": "-yE3Su3oAMpj"
      },
      "source": [
        "### Aggregates"
      ]
    },
    {
      "cell_type": "code",
      "metadata": {
        "colab": {
          "base_uri": "https://localhost:8080/"
        },
        "id": "BW1Yz4X7Atlz",
        "outputId": "4949e163-fadb-4a45-e297-9d48a5d1cc71"
      },
      "source": [
        "x = np.arange(1, 6)\r\n",
        "np.add.reduce(x)"
      ],
      "execution_count": 41,
      "outputs": [
        {
          "output_type": "execute_result",
          "data": {
            "text/plain": [
              "15"
            ]
          },
          "metadata": {
            "tags": []
          },
          "execution_count": 41
        }
      ]
    },
    {
      "cell_type": "code",
      "metadata": {
        "colab": {
          "base_uri": "https://localhost:8080/"
        },
        "id": "lqgbSJW5EYAx",
        "outputId": "3582f56e-aa2d-4551-9f6a-73f0240f0e04"
      },
      "source": [
        "np.multiply.reduce(x)"
      ],
      "execution_count": 42,
      "outputs": [
        {
          "output_type": "execute_result",
          "data": {
            "text/plain": [
              "120"
            ]
          },
          "metadata": {
            "tags": []
          },
          "execution_count": 42
        }
      ]
    },
    {
      "cell_type": "code",
      "metadata": {
        "colab": {
          "base_uri": "https://localhost:8080/"
        },
        "id": "ReDyKg6oEdE9",
        "outputId": "86c86c1f-ce0d-4d6b-c842-9638f7aab88b"
      },
      "source": [
        "np.add.accumulate(x)"
      ],
      "execution_count": 43,
      "outputs": [
        {
          "output_type": "execute_result",
          "data": {
            "text/plain": [
              "array([ 1,  3,  6, 10, 15])"
            ]
          },
          "metadata": {
            "tags": []
          },
          "execution_count": 43
        }
      ]
    },
    {
      "cell_type": "code",
      "metadata": {
        "colab": {
          "base_uri": "https://localhost:8080/"
        },
        "id": "K8xtOBt_EhCN",
        "outputId": "bd1bf1b3-9892-411b-c39d-05e2b8c381d8"
      },
      "source": [
        "np.multiply.accumulate(x)"
      ],
      "execution_count": 44,
      "outputs": [
        {
          "output_type": "execute_result",
          "data": {
            "text/plain": [
              "array([  1,   2,   6,  24, 120])"
            ]
          },
          "metadata": {
            "tags": []
          },
          "execution_count": 44
        }
      ]
    },
    {
      "cell_type": "markdown",
      "metadata": {
        "id": "8qId3JhQEwvj"
      },
      "source": [
        "### Outer products"
      ]
    },
    {
      "cell_type": "code",
      "metadata": {
        "colab": {
          "base_uri": "https://localhost:8080/"
        },
        "id": "G-zoJs2SEpxr",
        "outputId": "ca119a33-6290-48c1-81a4-dd8952f582a7"
      },
      "source": [
        "x = np.arange(1, 6)\r\n",
        "np.multiply.outer(x, x)"
      ],
      "execution_count": 45,
      "outputs": [
        {
          "output_type": "execute_result",
          "data": {
            "text/plain": [
              "array([[ 1,  2,  3,  4,  5],\n",
              "       [ 2,  4,  6,  8, 10],\n",
              "       [ 3,  6,  9, 12, 15],\n",
              "       [ 4,  8, 12, 16, 20],\n",
              "       [ 5, 10, 15, 20, 25]])"
            ]
          },
          "metadata": {
            "tags": []
          },
          "execution_count": 45
        }
      ]
    },
    {
      "cell_type": "code",
      "metadata": {
        "id": "w9YLVp2gE1tJ"
      },
      "source": [
        ""
      ],
      "execution_count": null,
      "outputs": []
    }
  ]
}
