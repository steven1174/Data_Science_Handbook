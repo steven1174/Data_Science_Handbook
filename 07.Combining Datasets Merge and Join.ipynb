{
  "nbformat": 4,
  "nbformat_minor": 0,
  "metadata": {
    "colab": {
      "name": "07.Combining Datasets: Merge and Join.ipynb",
      "provenance": [],
      "authorship_tag": "ABX9TyO7AW76kvvTTSSq8tjDDo1u",
      "include_colab_link": true
    },
    "kernelspec": {
      "name": "python3",
      "display_name": "Python 3"
    }
  },
  "cells": [
    {
      "cell_type": "markdown",
      "metadata": {
        "id": "view-in-github",
        "colab_type": "text"
      },
      "source": [
        "<a href=\"https://colab.research.google.com/github/steven1174/Data_Science_Handbook/blob/main/07.Combining%20Datasets%20Merge%20and%20Join.ipynb\" target=\"_parent\"><img src=\"https://colab.research.google.com/assets/colab-badge.svg\" alt=\"Open In Colab\"/></a>"
      ]
    },
    {
      "cell_type": "markdown",
      "metadata": {
        "id": "wqB8h1mSKW9A"
      },
      "source": [
        "# Combining Datasets: Merge and Join\r\n",
        "## Relational Algebra\r\n",
        "The behavior implemented in pd.merge() is a subset of what is known as relational algebra, which is a formal set of rules for manipulating relational data, and forms the conceptual foundation of operations available in most databases. The strength of the\r\n",
        "relational algebra approach is that it proposes several primitive operations, which become the building blocks of more complicated operations on any dataset. With this lexicon of fundamental operations implemented efficiently in a database or other program,\r\n",
        "a wide range of fairly complicated composite operations can be performed.\r\n",
        "\r\n",
        "Pandas implements several of these fundamental building blocks in the pd.merge() function and the related join() method of Series and DataFrames. As we will see, these let you efficiently link data from different sources.\r\n",
        "## Categories of Joins\r\n",
        "The pd.merge() function implements a number of types of joins: the one-to-one, many-to-one, and many-to-many joins. All three types of joins are accessed via an identical call to the pd.merge() interface; the type of join performed depends on the form of the input data. Here we will show simple examples of the three types of\r\n",
        "merges, and discuss detailed options further below.\r\n",
        "### One-to-one joins\r\n",
        "\r\n"
      ]
    },
    {
      "cell_type": "code",
      "metadata": {
        "id": "oGx8skAUOeei"
      },
      "source": [
        "import pandas as pd"
      ],
      "execution_count": 1,
      "outputs": []
    },
    {
      "cell_type": "code",
      "metadata": {
        "colab": {
          "base_uri": "https://localhost:8080/"
        },
        "id": "y7jShVrgKtUm",
        "outputId": "2429f7de-d09c-4317-a8c0-da7011f3703d"
      },
      "source": [
        "df1 = pd.DataFrame({'employee': ['Bob', 'Jake', 'Lisa', 'Sue'],'group': ['Accounting', 'Engineering', 'Engineering', 'HR']})\r\n",
        "df2 = pd.DataFrame({'employee': ['Lisa', 'Bob', 'Jake', 'Sue'],'hire_date': [2004, 2008, 2012, 2014]})\r\n",
        "print(df1); print('\\n',df2)"
      ],
      "execution_count": 24,
      "outputs": [
        {
          "output_type": "stream",
          "text": [
            "  employee        group\n",
            "0      Bob   Accounting\n",
            "1     Jake  Engineering\n",
            "2     Lisa  Engineering\n",
            "3      Sue           HR\n",
            "\n",
            "   employee  hire_date\n",
            "0     Lisa       2004\n",
            "1      Bob       2008\n",
            "2     Jake       2012\n",
            "3      Sue       2014\n"
          ],
          "name": "stdout"
        }
      ]
    },
    {
      "cell_type": "code",
      "metadata": {
        "colab": {
          "base_uri": "https://localhost:8080/",
          "height": 168
        },
        "id": "2HWc6DyNOGTa",
        "outputId": "e238d7e5-d9e8-44dc-b2e6-eb114f60f868"
      },
      "source": [
        "df3 = pd.merge(df1,df2)\r\n",
        "df3"
      ],
      "execution_count": 25,
      "outputs": [
        {
          "output_type": "execute_result",
          "data": {
            "text/html": [
              "<div>\n",
              "<style scoped>\n",
              "    .dataframe tbody tr th:only-of-type {\n",
              "        vertical-align: middle;\n",
              "    }\n",
              "\n",
              "    .dataframe tbody tr th {\n",
              "        vertical-align: top;\n",
              "    }\n",
              "\n",
              "    .dataframe thead th {\n",
              "        text-align: right;\n",
              "    }\n",
              "</style>\n",
              "<table border=\"1\" class=\"dataframe\">\n",
              "  <thead>\n",
              "    <tr style=\"text-align: right;\">\n",
              "      <th></th>\n",
              "      <th>employee</th>\n",
              "      <th>group</th>\n",
              "      <th>hire_date</th>\n",
              "    </tr>\n",
              "  </thead>\n",
              "  <tbody>\n",
              "    <tr>\n",
              "      <th>0</th>\n",
              "      <td>Bob</td>\n",
              "      <td>Accounting</td>\n",
              "      <td>2008</td>\n",
              "    </tr>\n",
              "    <tr>\n",
              "      <th>1</th>\n",
              "      <td>Jake</td>\n",
              "      <td>Engineering</td>\n",
              "      <td>2012</td>\n",
              "    </tr>\n",
              "    <tr>\n",
              "      <th>2</th>\n",
              "      <td>Lisa</td>\n",
              "      <td>Engineering</td>\n",
              "      <td>2004</td>\n",
              "    </tr>\n",
              "    <tr>\n",
              "      <th>3</th>\n",
              "      <td>Sue</td>\n",
              "      <td>HR</td>\n",
              "      <td>2014</td>\n",
              "    </tr>\n",
              "  </tbody>\n",
              "</table>\n",
              "</div>"
            ],
            "text/plain": [
              "  employee        group  hire_date\n",
              "0      Bob   Accounting       2008\n",
              "1     Jake  Engineering       2012\n",
              "2     Lisa  Engineering       2004\n",
              "3      Sue           HR       2014"
            ]
          },
          "metadata": {
            "tags": []
          },
          "execution_count": 25
        }
      ]
    },
    {
      "cell_type": "markdown",
      "metadata": {
        "id": "m_m5xzo1PtUN"
      },
      "source": [
        "### Many-to-one joins"
      ]
    },
    {
      "cell_type": "code",
      "metadata": {
        "colab": {
          "base_uri": "https://localhost:8080/"
        },
        "id": "c9aNk1L1Prxz",
        "outputId": "c459880f-0ad8-4640-b86e-0ede7b48f010"
      },
      "source": [
        "df4 = pd.DataFrame({'group': ['Accounting', 'Engineering', 'HR'],'supervisor': ['Carly', 'Guido', 'Steve']})\r\n",
        "print(df3); print('\\n',df4);"
      ],
      "execution_count": 26,
      "outputs": [
        {
          "output_type": "stream",
          "text": [
            "  employee        group  hire_date\n",
            "0      Bob   Accounting       2008\n",
            "1     Jake  Engineering       2012\n",
            "2     Lisa  Engineering       2004\n",
            "3      Sue           HR       2014\n",
            "\n",
            "          group supervisor\n",
            "0   Accounting      Carly\n",
            "1  Engineering      Guido\n",
            "2           HR      Steve\n"
          ],
          "name": "stdout"
        }
      ]
    },
    {
      "cell_type": "code",
      "metadata": {
        "colab": {
          "base_uri": "https://localhost:8080/"
        },
        "id": "XwLTsdr13aYO",
        "outputId": "f123cd0d-f7d2-4716-9e34-defc686ba203"
      },
      "source": [
        "print(pd.merge(df3, df4))"
      ],
      "execution_count": 27,
      "outputs": [
        {
          "output_type": "stream",
          "text": [
            "  employee        group  hire_date supervisor\n",
            "0      Bob   Accounting       2008      Carly\n",
            "1     Jake  Engineering       2012      Guido\n",
            "2     Lisa  Engineering       2004      Guido\n",
            "3      Sue           HR       2014      Steve\n"
          ],
          "name": "stdout"
        }
      ]
    },
    {
      "cell_type": "markdown",
      "metadata": {
        "id": "aTTdVIHTSn9h"
      },
      "source": [
        "### Many-to-many joins"
      ]
    },
    {
      "cell_type": "code",
      "metadata": {
        "colab": {
          "base_uri": "https://localhost:8080/"
        },
        "id": "7dO7EACyO_Hn",
        "outputId": "4b0d19ad-b101-4298-8c16-cd41b65ee751"
      },
      "source": [
        "df5 = pd.DataFrame({'group': ['Accounting', 'Accounting','Engineering', 'Engineering', 'HR', 'HR'],\r\n",
        "                    'skills': ['math', 'spreadsheets', 'coding', 'linux','spreadsheets', 'organization']})\r\n",
        "print(df1);print('\\n',df5)"
      ],
      "execution_count": 30,
      "outputs": [
        {
          "output_type": "stream",
          "text": [
            "  employee        group\n",
            "0      Bob   Accounting\n",
            "1     Jake  Engineering\n",
            "2     Lisa  Engineering\n",
            "3      Sue           HR\n",
            "\n",
            "          group        skills\n",
            "0   Accounting          math\n",
            "1   Accounting  spreadsheets\n",
            "2  Engineering        coding\n",
            "3  Engineering         linux\n",
            "4           HR  spreadsheets\n",
            "5           HR  organization\n"
          ],
          "name": "stdout"
        }
      ]
    },
    {
      "cell_type": "code",
      "metadata": {
        "colab": {
          "base_uri": "https://localhost:8080/",
          "height": 288
        },
        "id": "0mhk6fNR4Nk6",
        "outputId": "fc8aa050-f096-403b-e49c-69098dd70a98"
      },
      "source": [
        "pd.merge(df1, df5)"
      ],
      "execution_count": 31,
      "outputs": [
        {
          "output_type": "execute_result",
          "data": {
            "text/html": [
              "<div>\n",
              "<style scoped>\n",
              "    .dataframe tbody tr th:only-of-type {\n",
              "        vertical-align: middle;\n",
              "    }\n",
              "\n",
              "    .dataframe tbody tr th {\n",
              "        vertical-align: top;\n",
              "    }\n",
              "\n",
              "    .dataframe thead th {\n",
              "        text-align: right;\n",
              "    }\n",
              "</style>\n",
              "<table border=\"1\" class=\"dataframe\">\n",
              "  <thead>\n",
              "    <tr style=\"text-align: right;\">\n",
              "      <th></th>\n",
              "      <th>employee</th>\n",
              "      <th>group</th>\n",
              "      <th>skills</th>\n",
              "    </tr>\n",
              "  </thead>\n",
              "  <tbody>\n",
              "    <tr>\n",
              "      <th>0</th>\n",
              "      <td>Bob</td>\n",
              "      <td>Accounting</td>\n",
              "      <td>math</td>\n",
              "    </tr>\n",
              "    <tr>\n",
              "      <th>1</th>\n",
              "      <td>Bob</td>\n",
              "      <td>Accounting</td>\n",
              "      <td>spreadsheets</td>\n",
              "    </tr>\n",
              "    <tr>\n",
              "      <th>2</th>\n",
              "      <td>Jake</td>\n",
              "      <td>Engineering</td>\n",
              "      <td>coding</td>\n",
              "    </tr>\n",
              "    <tr>\n",
              "      <th>3</th>\n",
              "      <td>Jake</td>\n",
              "      <td>Engineering</td>\n",
              "      <td>linux</td>\n",
              "    </tr>\n",
              "    <tr>\n",
              "      <th>4</th>\n",
              "      <td>Lisa</td>\n",
              "      <td>Engineering</td>\n",
              "      <td>coding</td>\n",
              "    </tr>\n",
              "    <tr>\n",
              "      <th>5</th>\n",
              "      <td>Lisa</td>\n",
              "      <td>Engineering</td>\n",
              "      <td>linux</td>\n",
              "    </tr>\n",
              "    <tr>\n",
              "      <th>6</th>\n",
              "      <td>Sue</td>\n",
              "      <td>HR</td>\n",
              "      <td>spreadsheets</td>\n",
              "    </tr>\n",
              "    <tr>\n",
              "      <th>7</th>\n",
              "      <td>Sue</td>\n",
              "      <td>HR</td>\n",
              "      <td>organization</td>\n",
              "    </tr>\n",
              "  </tbody>\n",
              "</table>\n",
              "</div>"
            ],
            "text/plain": [
              "  employee        group        skills\n",
              "0      Bob   Accounting          math\n",
              "1      Bob   Accounting  spreadsheets\n",
              "2     Jake  Engineering        coding\n",
              "3     Jake  Engineering         linux\n",
              "4     Lisa  Engineering        coding\n",
              "5     Lisa  Engineering         linux\n",
              "6      Sue           HR  spreadsheets\n",
              "7      Sue           HR  organization"
            ]
          },
          "metadata": {
            "tags": []
          },
          "execution_count": 31
        }
      ]
    },
    {
      "cell_type": "markdown",
      "metadata": {
        "id": "mrRhCS-4TqWk"
      },
      "source": [
        "## Specification of the Merge Key\r\n",
        "### The on keyword"
      ]
    },
    {
      "cell_type": "code",
      "metadata": {
        "colab": {
          "base_uri": "https://localhost:8080/"
        },
        "id": "6SycNdk2TjhY",
        "outputId": "72499094-254d-467a-be29-a63ddf07341f"
      },
      "source": [
        "print(df1); print('\\n',df2); print('\\n',pd.merge(df1, df2, on='employee'))"
      ],
      "execution_count": 32,
      "outputs": [
        {
          "output_type": "stream",
          "text": [
            "  employee        group\n",
            "0      Bob   Accounting\n",
            "1     Jake  Engineering\n",
            "2     Lisa  Engineering\n",
            "3      Sue           HR\n",
            "\n",
            "   employee  hire_date\n",
            "0     Lisa       2004\n",
            "1      Bob       2008\n",
            "2     Jake       2012\n",
            "3      Sue       2014\n",
            "\n",
            "   employee        group  hire_date\n",
            "0      Bob   Accounting       2008\n",
            "1     Jake  Engineering       2012\n",
            "2     Lisa  Engineering       2004\n",
            "3      Sue           HR       2014\n"
          ],
          "name": "stdout"
        }
      ]
    },
    {
      "cell_type": "markdown",
      "metadata": {
        "id": "tM575sbMV9VN"
      },
      "source": [
        "## The left_on and right_on keywords"
      ]
    },
    {
      "cell_type": "code",
      "metadata": {
        "colab": {
          "base_uri": "https://localhost:8080/"
        },
        "id": "kG2Yfug5VOAN",
        "outputId": "6d02b003-f84c-4649-eb43-ae433d13dccc"
      },
      "source": [
        "df3 = pd.DataFrame({'name': ['Bob', 'Jake', 'Lisa', 'Sue'],'salary': [70000, 80000, 120000, 90000]})\r\n",
        "print(df1); print('\\n',df3);print('\\n',pd.merge(df1, df3, left_on=\"employee\", right_on=\"name\"))"
      ],
      "execution_count": 33,
      "outputs": [
        {
          "output_type": "stream",
          "text": [
            "  employee        group\n",
            "0      Bob   Accounting\n",
            "1     Jake  Engineering\n",
            "2     Lisa  Engineering\n",
            "3      Sue           HR\n",
            "\n",
            "    name  salary\n",
            "0   Bob   70000\n",
            "1  Jake   80000\n",
            "2  Lisa  120000\n",
            "3   Sue   90000\n",
            "\n",
            "   employee        group  name  salary\n",
            "0      Bob   Accounting   Bob   70000\n",
            "1     Jake  Engineering  Jake   80000\n",
            "2     Lisa  Engineering  Lisa  120000\n",
            "3      Sue           HR   Sue   90000\n"
          ],
          "name": "stdout"
        }
      ]
    },
    {
      "cell_type": "code",
      "metadata": {
        "colab": {
          "base_uri": "https://localhost:8080/",
          "height": 168
        },
        "id": "eFnjH62oXJeR",
        "outputId": "31d21ceb-ca29-4b48-88e1-1facc080dbff"
      },
      "source": [
        "pd.merge(df1,df3,left_on=\"employee\",right_on='name').drop('name',axis = 1)"
      ],
      "execution_count": 8,
      "outputs": [
        {
          "output_type": "execute_result",
          "data": {
            "text/html": [
              "<div>\n",
              "<style scoped>\n",
              "    .dataframe tbody tr th:only-of-type {\n",
              "        vertical-align: middle;\n",
              "    }\n",
              "\n",
              "    .dataframe tbody tr th {\n",
              "        vertical-align: top;\n",
              "    }\n",
              "\n",
              "    .dataframe thead th {\n",
              "        text-align: right;\n",
              "    }\n",
              "</style>\n",
              "<table border=\"1\" class=\"dataframe\">\n",
              "  <thead>\n",
              "    <tr style=\"text-align: right;\">\n",
              "      <th></th>\n",
              "      <th>employee</th>\n",
              "      <th>group</th>\n",
              "      <th>salary</th>\n",
              "    </tr>\n",
              "  </thead>\n",
              "  <tbody>\n",
              "    <tr>\n",
              "      <th>0</th>\n",
              "      <td>Bob</td>\n",
              "      <td>Accounting</td>\n",
              "      <td>70000</td>\n",
              "    </tr>\n",
              "    <tr>\n",
              "      <th>1</th>\n",
              "      <td>Jake</td>\n",
              "      <td>Engineering</td>\n",
              "      <td>80000</td>\n",
              "    </tr>\n",
              "    <tr>\n",
              "      <th>2</th>\n",
              "      <td>Lisa</td>\n",
              "      <td>Engineering</td>\n",
              "      <td>120000</td>\n",
              "    </tr>\n",
              "    <tr>\n",
              "      <th>3</th>\n",
              "      <td>Sue</td>\n",
              "      <td>HR</td>\n",
              "      <td>90000</td>\n",
              "    </tr>\n",
              "  </tbody>\n",
              "</table>\n",
              "</div>"
            ],
            "text/plain": [
              "  employee        group  salary\n",
              "0      Bob   Accounting   70000\n",
              "1     Jake  Engineering   80000\n",
              "2     Lisa  Engineering  120000\n",
              "3      Sue           HR   90000"
            ]
          },
          "metadata": {
            "tags": []
          },
          "execution_count": 8
        }
      ]
    },
    {
      "cell_type": "markdown",
      "metadata": {
        "id": "O51ErVQwaHfF"
      },
      "source": [
        "## The left_index and right_index keywords"
      ]
    },
    {
      "cell_type": "code",
      "metadata": {
        "colab": {
          "base_uri": "https://localhost:8080/"
        },
        "id": "dDu5HWbBaGEZ",
        "outputId": "ef1c17fd-13e0-4366-8ae8-e043007f7ee1"
      },
      "source": [
        "df1a = df1.set_index('employee')\r\n",
        "df2a = df2.set_index('employee')\r\n",
        "print(df1a); print('\\n',df2a)"
      ],
      "execution_count": 34,
      "outputs": [
        {
          "output_type": "stream",
          "text": [
            "                group\n",
            "employee             \n",
            "Bob        Accounting\n",
            "Jake      Engineering\n",
            "Lisa      Engineering\n",
            "Sue                HR\n",
            "\n",
            "           hire_date\n",
            "employee           \n",
            "Lisa           2004\n",
            "Bob            2008\n",
            "Jake           2012\n",
            "Sue            2014\n"
          ],
          "name": "stdout"
        }
      ]
    },
    {
      "cell_type": "code",
      "metadata": {
        "colab": {
          "base_uri": "https://localhost:8080/"
        },
        "id": "KPTPSt6TXvpR",
        "outputId": "a07b128a-3fa7-4d3f-dfba-61f4ee80d1cb"
      },
      "source": [
        "print(pd.merge(df1a,df2a,left_index=True, right_index=True))"
      ],
      "execution_count": 37,
      "outputs": [
        {
          "output_type": "stream",
          "text": [
            "\n",
            "                 group  hire_date\n",
            "employee                        \n",
            "Bob        Accounting       2008\n",
            "Jake      Engineering       2012\n",
            "Lisa      Engineering       2004\n",
            "Sue                HR       2014\n"
          ],
          "name": "stdout"
        }
      ]
    },
    {
      "cell_type": "code",
      "metadata": {
        "colab": {
          "base_uri": "https://localhost:8080/"
        },
        "id": "nMKDwuVntV7j",
        "outputId": "76ca8153-a817-492f-a666-97e80e73cd1a"
      },
      "source": [
        "print('\\n',df1a.join(df2a))"
      ],
      "execution_count": 38,
      "outputs": [
        {
          "output_type": "stream",
          "text": [
            "\n",
            "                 group  hire_date\n",
            "employee                        \n",
            "Bob        Accounting       2008\n",
            "Jake      Engineering       2012\n",
            "Lisa      Engineering       2004\n",
            "Sue                HR       2014\n"
          ],
          "name": "stdout"
        }
      ]
    },
    {
      "cell_type": "code",
      "metadata": {
        "colab": {
          "base_uri": "https://localhost:8080/"
        },
        "id": "9jTj2XU1tyXb",
        "outputId": "9bf60bf0-4029-4304-c10e-af3e31f191b9"
      },
      "source": [
        "print(df1a); print('\\n',df3);"
      ],
      "execution_count": 39,
      "outputs": [
        {
          "output_type": "stream",
          "text": [
            "                group\n",
            "employee             \n",
            "Bob        Accounting\n",
            "Jake      Engineering\n",
            "Lisa      Engineering\n",
            "Sue                HR\n",
            "\n",
            "    name  salary\n",
            "0   Bob   70000\n",
            "1  Jake   80000\n",
            "2  Lisa  120000\n",
            "3   Sue   90000\n"
          ],
          "name": "stdout"
        }
      ]
    },
    {
      "cell_type": "code",
      "metadata": {
        "colab": {
          "base_uri": "https://localhost:8080/"
        },
        "id": "w6DCKryhuPbX",
        "outputId": "7892b5c3-d289-4785-d7e7-6b98d251349d"
      },
      "source": [
        "print(pd.merge(df1a, df3, left_index=True, right_on='name'))"
      ],
      "execution_count": 13,
      "outputs": [
        {
          "output_type": "stream",
          "text": [
            "         group  name  salary\n",
            "0   Accounting   Bob   70000\n",
            "1  Engineering  Jake   80000\n",
            "2  Engineering  Lisa  120000\n",
            "3           HR   Sue   90000\n"
          ],
          "name": "stdout"
        }
      ]
    },
    {
      "cell_type": "markdown",
      "metadata": {
        "id": "gJnqRHSCyYg4"
      },
      "source": [
        "## Specifying Set Arithmetic for Joins"
      ]
    },
    {
      "cell_type": "code",
      "metadata": {
        "colab": {
          "base_uri": "https://localhost:8080/"
        },
        "id": "vOxHa-6hw_0o",
        "outputId": "4db0d435-3253-46ac-80a0-ecc5227a90f2"
      },
      "source": [
        "df6 = pd.DataFrame({'name': ['Peter', 'Paul', 'Mary'],'food': ['fish', 'beans', 'bread']}, columns=['name', 'food'])\r\n",
        "df7 = pd.DataFrame({'name': ['Mary', 'Joseph'],'drink': ['wine', 'beer']}, columns=['name', 'drink'])\r\n",
        "print(df6);print('\\n',df7);"
      ],
      "execution_count": 14,
      "outputs": [
        {
          "output_type": "stream",
          "text": [
            "    name   food\n",
            "0  Peter   fish\n",
            "1   Paul  beans\n",
            "2   Mary  bread\n",
            "\n",
            "      name drink\n",
            "0    Mary  wine\n",
            "1  Joseph  beer\n"
          ],
          "name": "stdout"
        }
      ]
    },
    {
      "cell_type": "code",
      "metadata": {
        "colab": {
          "base_uri": "https://localhost:8080/",
          "height": 78
        },
        "id": "GiRtf8rJz0Hp",
        "outputId": "70b5742a-a7a9-4fec-e3c9-8b447ccaa3c2"
      },
      "source": [
        "pd.merge(df6, df7, how='inner')"
      ],
      "execution_count": 40,
      "outputs": [
        {
          "output_type": "execute_result",
          "data": {
            "text/html": [
              "<div>\n",
              "<style scoped>\n",
              "    .dataframe tbody tr th:only-of-type {\n",
              "        vertical-align: middle;\n",
              "    }\n",
              "\n",
              "    .dataframe tbody tr th {\n",
              "        vertical-align: top;\n",
              "    }\n",
              "\n",
              "    .dataframe thead th {\n",
              "        text-align: right;\n",
              "    }\n",
              "</style>\n",
              "<table border=\"1\" class=\"dataframe\">\n",
              "  <thead>\n",
              "    <tr style=\"text-align: right;\">\n",
              "      <th></th>\n",
              "      <th>name</th>\n",
              "      <th>food</th>\n",
              "      <th>drink</th>\n",
              "    </tr>\n",
              "  </thead>\n",
              "  <tbody>\n",
              "    <tr>\n",
              "      <th>0</th>\n",
              "      <td>Mary</td>\n",
              "      <td>bread</td>\n",
              "      <td>wine</td>\n",
              "    </tr>\n",
              "  </tbody>\n",
              "</table>\n",
              "</div>"
            ],
            "text/plain": [
              "   name   food drink\n",
              "0  Mary  bread  wine"
            ]
          },
          "metadata": {
            "tags": []
          },
          "execution_count": 40
        }
      ]
    },
    {
      "cell_type": "code",
      "metadata": {
        "colab": {
          "base_uri": "https://localhost:8080/"
        },
        "id": "cpumBDzwEJ1x",
        "outputId": "601018ab-e5e7-40d1-8ae7-9c287cf9b446"
      },
      "source": [
        "print(pd.merge(df6, df7, how='outer'))"
      ],
      "execution_count": 16,
      "outputs": [
        {
          "output_type": "stream",
          "text": [
            "     name   food drink\n",
            "0   Peter   fish   NaN\n",
            "1    Paul  beans   NaN\n",
            "2    Mary  bread  wine\n",
            "3  Joseph    NaN  beer\n"
          ],
          "name": "stdout"
        }
      ]
    },
    {
      "cell_type": "code",
      "metadata": {
        "colab": {
          "base_uri": "https://localhost:8080/"
        },
        "id": "mPory_dbEpnC",
        "outputId": "42a47218-ac6c-410b-aa50-7be69f96ed01"
      },
      "source": [
        "print(pd.merge(df6, df7, how='left'))"
      ],
      "execution_count": 17,
      "outputs": [
        {
          "output_type": "stream",
          "text": [
            "    name   food drink\n",
            "0  Peter   fish   NaN\n",
            "1   Paul  beans   NaN\n",
            "2   Mary  bread  wine\n"
          ],
          "name": "stdout"
        }
      ]
    },
    {
      "cell_type": "code",
      "metadata": {
        "colab": {
          "base_uri": "https://localhost:8080/"
        },
        "id": "MPZS3Tp4GN9_",
        "outputId": "b94140c5-0fde-4ce6-f9f2-1544321dc1a4"
      },
      "source": [
        "print(pd.merge(df6, df7, how='right'))"
      ],
      "execution_count": 18,
      "outputs": [
        {
          "output_type": "stream",
          "text": [
            "     name   food drink\n",
            "0    Mary  bread  wine\n",
            "1  Joseph    NaN  beer\n"
          ],
          "name": "stdout"
        }
      ]
    },
    {
      "cell_type": "markdown",
      "metadata": {
        "id": "Q03nUZUUHzlf"
      },
      "source": [
        "## Overlapping Column Names: The suffixes Keyword"
      ]
    },
    {
      "cell_type": "code",
      "metadata": {
        "colab": {
          "base_uri": "https://localhost:8080/"
        },
        "id": "xu3t8pODGRvN",
        "outputId": "5cd4080d-b137-46fd-97aa-7a6ad09696d3"
      },
      "source": [
        "df8 = pd.DataFrame({'name': ['Bob', 'Jake', 'Lisa', 'Sue'],'rank': [1, 2, 3, 4]})\r\n",
        "df9 = pd.DataFrame({'name': ['Bob', 'Jake', 'Lisa', 'Sue'],'rank': [3, 1, 4, 2]})\r\n",
        "print(df8); print('\\n',df9);"
      ],
      "execution_count": 19,
      "outputs": [
        {
          "output_type": "stream",
          "text": [
            "   name  rank\n",
            "0   Bob     1\n",
            "1  Jake     2\n",
            "2  Lisa     3\n",
            "3   Sue     4\n",
            "\n",
            "    name  rank\n",
            "0   Bob     3\n",
            "1  Jake     1\n",
            "2  Lisa     4\n",
            "3   Sue     2\n"
          ],
          "name": "stdout"
        }
      ]
    },
    {
      "cell_type": "code",
      "metadata": {
        "colab": {
          "base_uri": "https://localhost:8080/"
        },
        "id": "kFOECXYsII61",
        "outputId": "30a6fbde-1bf2-4e5d-a432-c6d5ac73cb19"
      },
      "source": [
        "print(pd.merge(df8, df9, on=\"name\",suffixes=[\"_L\", \"_R\"]))"
      ],
      "execution_count": 20,
      "outputs": [
        {
          "output_type": "stream",
          "text": [
            "   name  rank_L  rank_R\n",
            "0   Bob       1       3\n",
            "1  Jake       2       1\n",
            "2  Lisa       3       4\n",
            "3   Sue       4       2\n"
          ],
          "name": "stdout"
        }
      ]
    },
    {
      "cell_type": "markdown",
      "metadata": {
        "id": "sLpAX7kLMPPN"
      },
      "source": [
        "## Example: US States Data"
      ]
    },
    {
      "cell_type": "code",
      "metadata": {
        "id": "CUz18K60JKRq",
        "colab": {
          "base_uri": "https://localhost:8080/"
        },
        "outputId": "ff3aa0c7-76f1-42d6-8ba8-37ac251864db"
      },
      "source": [
        "url1 = 'https://raw.githubusercontent.com/steven1174/Data_Science_Handbook/main/Data/state-population.csv'\r\n",
        "url2 = 'https://raw.githubusercontent.com/steven1174/Data_Science_Handbook/main/Data/state-areas.csv'\r\n",
        "url3 = 'https://raw.githubusercontent.com/steven1174/Data_Science_Handbook/main/Data/state-abbrevs.csv'\r\n",
        "\r\n",
        "pop = pd.read_csv(url1)\r\n",
        "areas = pd.read_csv(url2)\r\n",
        "abbrevs = pd.read_csv(url3)\r\n",
        "print(pop.head()); print('\\n',areas.head()); print('\\n',abbrevs.head())"
      ],
      "execution_count": 45,
      "outputs": [
        {
          "output_type": "stream",
          "text": [
            "  state/region     ages  year  population\n",
            "0           AL  under18  2012   1117489.0\n",
            "1           AL    total  2012   4817528.0\n",
            "2           AL  under18  2010   1130966.0\n",
            "3           AL    total  2010   4785570.0\n",
            "4           AL  under18  2011   1125763.0\n",
            "\n",
            "         state  area (sq. mi)\n",
            "0     Alabama          52423\n",
            "1      Alaska         656425\n",
            "2     Arizona         114006\n",
            "3    Arkansas          53182\n",
            "4  California         163707\n",
            "\n",
            "         state abbreviation\n",
            "0     Alabama           AL\n",
            "1      Alaska           AK\n",
            "2     Arizona           AZ\n",
            "3    Arkansas           AR\n",
            "4  California           CA\n"
          ],
          "name": "stdout"
        }
      ]
    },
    {
      "cell_type": "code",
      "metadata": {
        "colab": {
          "base_uri": "https://localhost:8080/",
          "height": 198
        },
        "id": "X_gByVVA8y9n",
        "outputId": "212b56f8-d60b-45ba-d737-e168df5ea4d6"
      },
      "source": [
        "merged = pd.merge(pop,abbrevs, how = 'outer', left_on = 'state/region', right_on= 'abbreviation')\r\n",
        "merged.drop(['abbreviation'],axis=1,inplace= True)\r\n",
        "merged.head()"
      ],
      "execution_count": 56,
      "outputs": [
        {
          "output_type": "execute_result",
          "data": {
            "text/html": [
              "<div>\n",
              "<style scoped>\n",
              "    .dataframe tbody tr th:only-of-type {\n",
              "        vertical-align: middle;\n",
              "    }\n",
              "\n",
              "    .dataframe tbody tr th {\n",
              "        vertical-align: top;\n",
              "    }\n",
              "\n",
              "    .dataframe thead th {\n",
              "        text-align: right;\n",
              "    }\n",
              "</style>\n",
              "<table border=\"1\" class=\"dataframe\">\n",
              "  <thead>\n",
              "    <tr style=\"text-align: right;\">\n",
              "      <th></th>\n",
              "      <th>state/region</th>\n",
              "      <th>ages</th>\n",
              "      <th>year</th>\n",
              "      <th>population</th>\n",
              "      <th>state</th>\n",
              "    </tr>\n",
              "  </thead>\n",
              "  <tbody>\n",
              "    <tr>\n",
              "      <th>0</th>\n",
              "      <td>AL</td>\n",
              "      <td>under18</td>\n",
              "      <td>2012</td>\n",
              "      <td>1117489.0</td>\n",
              "      <td>Alabama</td>\n",
              "    </tr>\n",
              "    <tr>\n",
              "      <th>1</th>\n",
              "      <td>AL</td>\n",
              "      <td>total</td>\n",
              "      <td>2012</td>\n",
              "      <td>4817528.0</td>\n",
              "      <td>Alabama</td>\n",
              "    </tr>\n",
              "    <tr>\n",
              "      <th>2</th>\n",
              "      <td>AL</td>\n",
              "      <td>under18</td>\n",
              "      <td>2010</td>\n",
              "      <td>1130966.0</td>\n",
              "      <td>Alabama</td>\n",
              "    </tr>\n",
              "    <tr>\n",
              "      <th>3</th>\n",
              "      <td>AL</td>\n",
              "      <td>total</td>\n",
              "      <td>2010</td>\n",
              "      <td>4785570.0</td>\n",
              "      <td>Alabama</td>\n",
              "    </tr>\n",
              "    <tr>\n",
              "      <th>4</th>\n",
              "      <td>AL</td>\n",
              "      <td>under18</td>\n",
              "      <td>2011</td>\n",
              "      <td>1125763.0</td>\n",
              "      <td>Alabama</td>\n",
              "    </tr>\n",
              "  </tbody>\n",
              "</table>\n",
              "</div>"
            ],
            "text/plain": [
              "  state/region     ages  year  population    state\n",
              "0           AL  under18  2012   1117489.0  Alabama\n",
              "1           AL    total  2012   4817528.0  Alabama\n",
              "2           AL  under18  2010   1130966.0  Alabama\n",
              "3           AL    total  2010   4785570.0  Alabama\n",
              "4           AL  under18  2011   1125763.0  Alabama"
            ]
          },
          "metadata": {
            "tags": []
          },
          "execution_count": 56
        }
      ]
    },
    {
      "cell_type": "code",
      "metadata": {
        "colab": {
          "base_uri": "https://localhost:8080/"
        },
        "id": "rumsUBq5-JY5",
        "outputId": "e2d5f2b1-f0dc-48c9-f029-f5ef0ec64b10"
      },
      "source": [
        "merged.isnull().any()"
      ],
      "execution_count": 58,
      "outputs": [
        {
          "output_type": "execute_result",
          "data": {
            "text/plain": [
              "state/region    False\n",
              "ages            False\n",
              "year            False\n",
              "population       True\n",
              "state            True\n",
              "dtype: bool"
            ]
          },
          "metadata": {
            "tags": []
          },
          "execution_count": 58
        }
      ]
    },
    {
      "cell_type": "code",
      "metadata": {
        "colab": {
          "base_uri": "https://localhost:8080/",
          "height": 198
        },
        "id": "mNl0DB92Bgn_",
        "outputId": "3cf3465a-78e4-4c56-9eac-bd999ff4d8cf"
      },
      "source": [
        "merged[merged.population.isnull()].head()"
      ],
      "execution_count": 62,
      "outputs": [
        {
          "output_type": "execute_result",
          "data": {
            "text/html": [
              "<div>\n",
              "<style scoped>\n",
              "    .dataframe tbody tr th:only-of-type {\n",
              "        vertical-align: middle;\n",
              "    }\n",
              "\n",
              "    .dataframe tbody tr th {\n",
              "        vertical-align: top;\n",
              "    }\n",
              "\n",
              "    .dataframe thead th {\n",
              "        text-align: right;\n",
              "    }\n",
              "</style>\n",
              "<table border=\"1\" class=\"dataframe\">\n",
              "  <thead>\n",
              "    <tr style=\"text-align: right;\">\n",
              "      <th></th>\n",
              "      <th>state/region</th>\n",
              "      <th>ages</th>\n",
              "      <th>year</th>\n",
              "      <th>population</th>\n",
              "      <th>state</th>\n",
              "    </tr>\n",
              "  </thead>\n",
              "  <tbody>\n",
              "    <tr>\n",
              "      <th>2448</th>\n",
              "      <td>PR</td>\n",
              "      <td>under18</td>\n",
              "      <td>1990</td>\n",
              "      <td>NaN</td>\n",
              "      <td>NaN</td>\n",
              "    </tr>\n",
              "    <tr>\n",
              "      <th>2449</th>\n",
              "      <td>PR</td>\n",
              "      <td>total</td>\n",
              "      <td>1990</td>\n",
              "      <td>NaN</td>\n",
              "      <td>NaN</td>\n",
              "    </tr>\n",
              "    <tr>\n",
              "      <th>2450</th>\n",
              "      <td>PR</td>\n",
              "      <td>total</td>\n",
              "      <td>1991</td>\n",
              "      <td>NaN</td>\n",
              "      <td>NaN</td>\n",
              "    </tr>\n",
              "    <tr>\n",
              "      <th>2451</th>\n",
              "      <td>PR</td>\n",
              "      <td>under18</td>\n",
              "      <td>1991</td>\n",
              "      <td>NaN</td>\n",
              "      <td>NaN</td>\n",
              "    </tr>\n",
              "    <tr>\n",
              "      <th>2452</th>\n",
              "      <td>PR</td>\n",
              "      <td>total</td>\n",
              "      <td>1993</td>\n",
              "      <td>NaN</td>\n",
              "      <td>NaN</td>\n",
              "    </tr>\n",
              "  </tbody>\n",
              "</table>\n",
              "</div>"
            ],
            "text/plain": [
              "     state/region     ages  year  population state\n",
              "2448           PR  under18  1990         NaN   NaN\n",
              "2449           PR    total  1990         NaN   NaN\n",
              "2450           PR    total  1991         NaN   NaN\n",
              "2451           PR  under18  1991         NaN   NaN\n",
              "2452           PR    total  1993         NaN   NaN"
            ]
          },
          "metadata": {
            "tags": []
          },
          "execution_count": 62
        }
      ]
    },
    {
      "cell_type": "code",
      "metadata": {
        "colab": {
          "base_uri": "https://localhost:8080/"
        },
        "id": "6wQqOIfxB0mM",
        "outputId": "78ae0f48-ec70-4e79-b29a-bdaa60c36ef4"
      },
      "source": [
        "merged.loc[merged.population.isnull() | merged.state.isnull(),'state/region'].unique()"
      ],
      "execution_count": 66,
      "outputs": [
        {
          "output_type": "execute_result",
          "data": {
            "text/plain": [
              "array(['PR', 'USA'], dtype=object)"
            ]
          },
          "metadata": {
            "tags": []
          },
          "execution_count": 66
        }
      ]
    },
    {
      "cell_type": "code",
      "metadata": {
        "colab": {
          "base_uri": "https://localhost:8080/"
        },
        "id": "o11vjNaOFQjK",
        "outputId": "aafd7ed8-dbbd-4223-c425-7870dff796a2"
      },
      "source": [
        "merged.loc[merged['state/region'] == 'PR','state'] = 'Puerto Rico'\r\n",
        "merged.loc[merged['state/region'] == 'USA','state'] = 'United States'\r\n",
        "merged.isnull().any()"
      ],
      "execution_count": 72,
      "outputs": [
        {
          "output_type": "execute_result",
          "data": {
            "text/plain": [
              "state/region    False\n",
              "ages            False\n",
              "year            False\n",
              "population       True\n",
              "state           False\n",
              "dtype: bool"
            ]
          },
          "metadata": {
            "tags": []
          },
          "execution_count": 72
        }
      ]
    },
    {
      "cell_type": "code",
      "metadata": {
        "colab": {
          "base_uri": "https://localhost:8080/",
          "height": 198
        },
        "id": "mziZJybpGswe",
        "outputId": "5e90f1a8-522e-4182-e70b-465be9381c21"
      },
      "source": [
        "final = pd.merge(merged,areas,how = 'left', on = 'state')\r\n",
        "final.head()"
      ],
      "execution_count": 74,
      "outputs": [
        {
          "output_type": "execute_result",
          "data": {
            "text/html": [
              "<div>\n",
              "<style scoped>\n",
              "    .dataframe tbody tr th:only-of-type {\n",
              "        vertical-align: middle;\n",
              "    }\n",
              "\n",
              "    .dataframe tbody tr th {\n",
              "        vertical-align: top;\n",
              "    }\n",
              "\n",
              "    .dataframe thead th {\n",
              "        text-align: right;\n",
              "    }\n",
              "</style>\n",
              "<table border=\"1\" class=\"dataframe\">\n",
              "  <thead>\n",
              "    <tr style=\"text-align: right;\">\n",
              "      <th></th>\n",
              "      <th>state/region</th>\n",
              "      <th>ages</th>\n",
              "      <th>year</th>\n",
              "      <th>population</th>\n",
              "      <th>state</th>\n",
              "      <th>area (sq. mi)</th>\n",
              "    </tr>\n",
              "  </thead>\n",
              "  <tbody>\n",
              "    <tr>\n",
              "      <th>0</th>\n",
              "      <td>AL</td>\n",
              "      <td>under18</td>\n",
              "      <td>2012</td>\n",
              "      <td>1117489.0</td>\n",
              "      <td>Alabama</td>\n",
              "      <td>52423.0</td>\n",
              "    </tr>\n",
              "    <tr>\n",
              "      <th>1</th>\n",
              "      <td>AL</td>\n",
              "      <td>total</td>\n",
              "      <td>2012</td>\n",
              "      <td>4817528.0</td>\n",
              "      <td>Alabama</td>\n",
              "      <td>52423.0</td>\n",
              "    </tr>\n",
              "    <tr>\n",
              "      <th>2</th>\n",
              "      <td>AL</td>\n",
              "      <td>under18</td>\n",
              "      <td>2010</td>\n",
              "      <td>1130966.0</td>\n",
              "      <td>Alabama</td>\n",
              "      <td>52423.0</td>\n",
              "    </tr>\n",
              "    <tr>\n",
              "      <th>3</th>\n",
              "      <td>AL</td>\n",
              "      <td>total</td>\n",
              "      <td>2010</td>\n",
              "      <td>4785570.0</td>\n",
              "      <td>Alabama</td>\n",
              "      <td>52423.0</td>\n",
              "    </tr>\n",
              "    <tr>\n",
              "      <th>4</th>\n",
              "      <td>AL</td>\n",
              "      <td>under18</td>\n",
              "      <td>2011</td>\n",
              "      <td>1125763.0</td>\n",
              "      <td>Alabama</td>\n",
              "      <td>52423.0</td>\n",
              "    </tr>\n",
              "  </tbody>\n",
              "</table>\n",
              "</div>"
            ],
            "text/plain": [
              "  state/region     ages  year  population    state  area (sq. mi)\n",
              "0           AL  under18  2012   1117489.0  Alabama        52423.0\n",
              "1           AL    total  2012   4817528.0  Alabama        52423.0\n",
              "2           AL  under18  2010   1130966.0  Alabama        52423.0\n",
              "3           AL    total  2010   4785570.0  Alabama        52423.0\n",
              "4           AL  under18  2011   1125763.0  Alabama        52423.0"
            ]
          },
          "metadata": {
            "tags": []
          },
          "execution_count": 74
        }
      ]
    },
    {
      "cell_type": "code",
      "metadata": {
        "colab": {
          "base_uri": "https://localhost:8080/"
        },
        "id": "oAbkjcrFHqK5",
        "outputId": "b4f27902-b9bf-45fd-a4b7-e71471ffd6e9"
      },
      "source": [
        "final.isnull().any()"
      ],
      "execution_count": 78,
      "outputs": [
        {
          "output_type": "execute_result",
          "data": {
            "text/plain": [
              "state/region     False\n",
              "ages             False\n",
              "year             False\n",
              "population        True\n",
              "state            False\n",
              "area (sq. mi)     True\n",
              "dtype: bool"
            ]
          },
          "metadata": {
            "tags": []
          },
          "execution_count": 78
        }
      ]
    },
    {
      "cell_type": "code",
      "metadata": {
        "colab": {
          "base_uri": "https://localhost:8080/"
        },
        "id": "S_MGfKDGJA58",
        "outputId": "54376e3d-ca02-4d74-d4f2-8ef777c8eff7"
      },
      "source": [
        "final['state'][final['area (sq. mi)'].isnull()].unique()"
      ],
      "execution_count": 86,
      "outputs": [
        {
          "output_type": "execute_result",
          "data": {
            "text/plain": [
              "array(['United States'], dtype=object)"
            ]
          },
          "metadata": {
            "tags": []
          },
          "execution_count": 86
        }
      ]
    },
    {
      "cell_type": "code",
      "metadata": {
        "colab": {
          "base_uri": "https://localhost:8080/"
        },
        "id": "2EW6EoEILggu",
        "outputId": "6f2ec6e7-b3d3-4b9d-aae2-fa3aef673711"
      },
      "source": [
        "final.dropna(subset = ['area (sq. mi)'],axis = 0, inplace= True)\r\n",
        "final.isnull().any()"
      ],
      "execution_count": 91,
      "outputs": [
        {
          "output_type": "execute_result",
          "data": {
            "text/plain": [
              "state/region     False\n",
              "ages             False\n",
              "year             False\n",
              "population        True\n",
              "state            False\n",
              "area (sq. mi)    False\n",
              "dtype: bool"
            ]
          },
          "metadata": {
            "tags": []
          },
          "execution_count": 91
        }
      ]
    },
    {
      "cell_type": "code",
      "metadata": {
        "id": "SFT8Ntk4N2BW"
      },
      "source": [
        "import numexpr"
      ],
      "execution_count": 98,
      "outputs": []
    },
    {
      "cell_type": "code",
      "metadata": {
        "colab": {
          "base_uri": "https://localhost:8080/",
          "height": 228
        },
        "id": "D-6RTq3GOkRc",
        "outputId": "85163ef9-78eb-4d05-b71f-4b6b541daec9"
      },
      "source": [
        "data2010 = final.query(\"year == 2010 & ages == 'total'\")\r\n",
        "data2010.set_index('state', inplace= True)\r\n",
        "data2010.head()"
      ],
      "execution_count": 109,
      "outputs": [
        {
          "output_type": "execute_result",
          "data": {
            "text/html": [
              "<div>\n",
              "<style scoped>\n",
              "    .dataframe tbody tr th:only-of-type {\n",
              "        vertical-align: middle;\n",
              "    }\n",
              "\n",
              "    .dataframe tbody tr th {\n",
              "        vertical-align: top;\n",
              "    }\n",
              "\n",
              "    .dataframe thead th {\n",
              "        text-align: right;\n",
              "    }\n",
              "</style>\n",
              "<table border=\"1\" class=\"dataframe\">\n",
              "  <thead>\n",
              "    <tr style=\"text-align: right;\">\n",
              "      <th></th>\n",
              "      <th>state/region</th>\n",
              "      <th>ages</th>\n",
              "      <th>year</th>\n",
              "      <th>population</th>\n",
              "      <th>area (sq. mi)</th>\n",
              "    </tr>\n",
              "    <tr>\n",
              "      <th>state</th>\n",
              "      <th></th>\n",
              "      <th></th>\n",
              "      <th></th>\n",
              "      <th></th>\n",
              "      <th></th>\n",
              "    </tr>\n",
              "  </thead>\n",
              "  <tbody>\n",
              "    <tr>\n",
              "      <th>Alabama</th>\n",
              "      <td>AL</td>\n",
              "      <td>total</td>\n",
              "      <td>2010</td>\n",
              "      <td>4785570.0</td>\n",
              "      <td>52423.0</td>\n",
              "    </tr>\n",
              "    <tr>\n",
              "      <th>Alaska</th>\n",
              "      <td>AK</td>\n",
              "      <td>total</td>\n",
              "      <td>2010</td>\n",
              "      <td>713868.0</td>\n",
              "      <td>656425.0</td>\n",
              "    </tr>\n",
              "    <tr>\n",
              "      <th>Arizona</th>\n",
              "      <td>AZ</td>\n",
              "      <td>total</td>\n",
              "      <td>2010</td>\n",
              "      <td>6408790.0</td>\n",
              "      <td>114006.0</td>\n",
              "    </tr>\n",
              "    <tr>\n",
              "      <th>Arkansas</th>\n",
              "      <td>AR</td>\n",
              "      <td>total</td>\n",
              "      <td>2010</td>\n",
              "      <td>2922280.0</td>\n",
              "      <td>53182.0</td>\n",
              "    </tr>\n",
              "    <tr>\n",
              "      <th>California</th>\n",
              "      <td>CA</td>\n",
              "      <td>total</td>\n",
              "      <td>2010</td>\n",
              "      <td>37333601.0</td>\n",
              "      <td>163707.0</td>\n",
              "    </tr>\n",
              "  </tbody>\n",
              "</table>\n",
              "</div>"
            ],
            "text/plain": [
              "           state/region   ages  year  population  area (sq. mi)\n",
              "state                                                          \n",
              "Alabama              AL  total  2010   4785570.0        52423.0\n",
              "Alaska               AK  total  2010    713868.0       656425.0\n",
              "Arizona              AZ  total  2010   6408790.0       114006.0\n",
              "Arkansas             AR  total  2010   2922280.0        53182.0\n",
              "California           CA  total  2010  37333601.0       163707.0"
            ]
          },
          "metadata": {
            "tags": []
          },
          "execution_count": 109
        }
      ]
    },
    {
      "cell_type": "code",
      "metadata": {
        "colab": {
          "base_uri": "https://localhost:8080/"
        },
        "id": "bDkZaKNQO71o",
        "outputId": "bb3b5fbd-41ab-46c8-92db-3566bc34e020"
      },
      "source": [
        "density = data2010.population / data2010['area (sq. mi)']\r\n",
        "density"
      ],
      "execution_count": 111,
      "outputs": [
        {
          "output_type": "execute_result",
          "data": {
            "text/plain": [
              "state\n",
              "Alabama                   91.287603\n",
              "Alaska                     1.087509\n",
              "Arizona                   56.214497\n",
              "Arkansas                  54.948667\n",
              "California               228.051342\n",
              "Colorado                  48.493718\n",
              "Connecticut              645.600649\n",
              "Delaware                 460.445752\n",
              "District of Columbia    8898.897059\n",
              "Florida                  286.597129\n",
              "Georgia                  163.409902\n",
              "Hawaii                   124.746707\n",
              "Idaho                     18.794338\n",
              "Illinois                 221.687472\n",
              "Indiana                  178.197831\n",
              "Iowa                      54.202751\n",
              "Kansas                    34.745266\n",
              "Kentucky                 107.586994\n",
              "Louisiana                 87.676099\n",
              "Maine                     37.509990\n",
              "Maryland                 466.445797\n",
              "Massachusetts            621.815538\n",
              "Michigan                 102.015794\n",
              "Minnesota                 61.078373\n",
              "Mississippi               61.321530\n",
              "Missouri                  86.015622\n",
              "Montana                    6.736171\n",
              "Nebraska                  23.654153\n",
              "Nevada                    24.448796\n",
              "New Hampshire            140.799273\n",
              "New Jersey              1009.253268\n",
              "New Mexico                16.982737\n",
              "New York                 356.094135\n",
              "North Carolina           177.617157\n",
              "North Dakota               9.537565\n",
              "Ohio                     257.549634\n",
              "Oklahoma                  53.778278\n",
              "Oregon                    39.001565\n",
              "Pennsylvania             275.966651\n",
              "Rhode Island             681.339159\n",
              "South Carolina           144.854594\n",
              "South Dakota              10.583512\n",
              "Tennessee                150.825298\n",
              "Texas                     93.987655\n",
              "Utah                      32.677188\n",
              "Vermont                   65.085075\n",
              "Virginia                 187.622273\n",
              "Washington                94.557817\n",
              "West Virginia             76.519582\n",
              "Wisconsin                 86.851900\n",
              "Wyoming                    5.768079\n",
              "Puerto Rico             1058.665149\n",
              "dtype: float64"
            ]
          },
          "metadata": {
            "tags": []
          },
          "execution_count": 111
        }
      ]
    },
    {
      "cell_type": "code",
      "metadata": {
        "colab": {
          "base_uri": "https://localhost:8080/"
        },
        "id": "wgKiWcnoPAqn",
        "outputId": "f787dbf4-4fcd-4994-a202-8ac4e919a091"
      },
      "source": [
        "density.sort_values(ascending= False, inplace = True)\r\n",
        "density.head()"
      ],
      "execution_count": 114,
      "outputs": [
        {
          "output_type": "execute_result",
          "data": {
            "text/plain": [
              "state\n",
              "District of Columbia    8898.897059\n",
              "Puerto Rico             1058.665149\n",
              "New Jersey              1009.253268\n",
              "Rhode Island             681.339159\n",
              "Connecticut              645.600649\n",
              "dtype: float64"
            ]
          },
          "metadata": {
            "tags": []
          },
          "execution_count": 114
        }
      ]
    },
    {
      "cell_type": "code",
      "metadata": {
        "colab": {
          "base_uri": "https://localhost:8080/"
        },
        "id": "ztDXGORuV_eq",
        "outputId": "a4b7d4aa-74c4-4989-89da-be9aedb7d04b"
      },
      "source": [
        "density.tail()"
      ],
      "execution_count": 115,
      "outputs": [
        {
          "output_type": "execute_result",
          "data": {
            "text/plain": [
              "state\n",
              "South Dakota    10.583512\n",
              "North Dakota     9.537565\n",
              "Montana          6.736171\n",
              "Wyoming          5.768079\n",
              "Alaska           1.087509\n",
              "dtype: float64"
            ]
          },
          "metadata": {
            "tags": []
          },
          "execution_count": 115
        }
      ]
    }
  ]
}