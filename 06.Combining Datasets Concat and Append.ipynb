{
  "nbformat": 4,
  "nbformat_minor": 0,
  "metadata": {
    "colab": {
      "name": "06.Combining Datasets: Concat and Append.ipynb",
      "provenance": [],
      "authorship_tag": "ABX9TyOItPf3Hkr2InYKrRSfXBL8",
      "include_colab_link": true
    },
    "kernelspec": {
      "name": "python3",
      "display_name": "Python 3"
    }
  },
  "cells": [
    {
      "cell_type": "markdown",
      "metadata": {
        "id": "view-in-github",
        "colab_type": "text"
      },
      "source": [
        "<a href=\"https://colab.research.google.com/github/steven1174/Data_Science_Handbook/blob/main/06.Combining%20Datasets%20Concat%20and%20Append.ipynb\" target=\"_parent\"><img src=\"https://colab.research.google.com/assets/colab-badge.svg\" alt=\"Open In Colab\"/></a>"
      ]
    },
    {
      "cell_type": "markdown",
      "metadata": {
        "id": "0GoOijs4gXrr"
      },
      "source": [
        "# Combining Datasets: Concat and Append"
      ]
    },
    {
      "cell_type": "code",
      "metadata": {
        "id": "5Ipv6zPZgdTP"
      },
      "source": [
        "import pandas as pd\r\n",
        "import numpy as np"
      ],
      "execution_count": null,
      "outputs": []
    },
    {
      "cell_type": "code",
      "metadata": {
        "id": "zDy9yFyhhK5B"
      },
      "source": [
        "def make_df(cols, ind):\r\n",
        "  \"\"\"Quickly make a DataFrame\"\"\"\r\n",
        "  data = {c: [str(c) + str(i) for i in ind] for c in cols}\r\n",
        "  return pd.DataFrame(data, ind)"
      ],
      "execution_count": null,
      "outputs": []
    },
    {
      "cell_type": "code",
      "metadata": {
        "id": "kVyn5slAiv8s",
        "colab": {
          "base_uri": "https://localhost:8080/",
          "height": 138
        },
        "outputId": "cbbd4d40-d1b3-4252-e2bf-56a81b0f7cce"
      },
      "source": [
        "# example DataFrame\r\n",
        "make_df('ABC', range(3))"
      ],
      "execution_count": null,
      "outputs": [
        {
          "output_type": "execute_result",
          "data": {
            "text/html": [
              "<div>\n",
              "<style scoped>\n",
              "    .dataframe tbody tr th:only-of-type {\n",
              "        vertical-align: middle;\n",
              "    }\n",
              "\n",
              "    .dataframe tbody tr th {\n",
              "        vertical-align: top;\n",
              "    }\n",
              "\n",
              "    .dataframe thead th {\n",
              "        text-align: right;\n",
              "    }\n",
              "</style>\n",
              "<table border=\"1\" class=\"dataframe\">\n",
              "  <thead>\n",
              "    <tr style=\"text-align: right;\">\n",
              "      <th></th>\n",
              "      <th>A</th>\n",
              "      <th>B</th>\n",
              "      <th>C</th>\n",
              "    </tr>\n",
              "  </thead>\n",
              "  <tbody>\n",
              "    <tr>\n",
              "      <th>0</th>\n",
              "      <td>A0</td>\n",
              "      <td>B0</td>\n",
              "      <td>C0</td>\n",
              "    </tr>\n",
              "    <tr>\n",
              "      <th>1</th>\n",
              "      <td>A1</td>\n",
              "      <td>B1</td>\n",
              "      <td>C1</td>\n",
              "    </tr>\n",
              "    <tr>\n",
              "      <th>2</th>\n",
              "      <td>A2</td>\n",
              "      <td>B2</td>\n",
              "      <td>C2</td>\n",
              "    </tr>\n",
              "  </tbody>\n",
              "</table>\n",
              "</div>"
            ],
            "text/plain": [
              "    A   B   C\n",
              "0  A0  B0  C0\n",
              "1  A1  B1  C1\n",
              "2  A2  B2  C2"
            ]
          },
          "metadata": {
            "tags": []
          },
          "execution_count": 4
        }
      ]
    },
    {
      "cell_type": "markdown",
      "metadata": {
        "id": "fHbmr-9fkRkI"
      },
      "source": [
        "## Recall: Concatenation of NumPy Arrays"
      ]
    },
    {
      "cell_type": "code",
      "metadata": {
        "colab": {
          "base_uri": "https://localhost:8080/"
        },
        "id": "76TdWkqVjCH9",
        "outputId": "3e254b31-855e-4b55-e533-6a0a226a0738"
      },
      "source": [
        "x = [1, 2, 3]\r\n",
        "y = [4, 5, 6]\r\n",
        "z = [7, 8, 9]\r\n",
        "np.concatenate([x, y, z])"
      ],
      "execution_count": null,
      "outputs": [
        {
          "output_type": "execute_result",
          "data": {
            "text/plain": [
              "array([1, 2, 3, 4, 5, 6, 7, 8, 9])"
            ]
          },
          "metadata": {
            "tags": []
          },
          "execution_count": 5
        }
      ]
    },
    {
      "cell_type": "code",
      "metadata": {
        "colab": {
          "base_uri": "https://localhost:8080/"
        },
        "id": "PRu7Gnzykz71",
        "outputId": "f412fad7-109e-4e6e-e7b7-d8209fddd432"
      },
      "source": [
        "x = [[1, 2],[3, 4]]\r\n",
        "np.concatenate([x, x], axis=1)"
      ],
      "execution_count": null,
      "outputs": [
        {
          "output_type": "execute_result",
          "data": {
            "text/plain": [
              "array([[1, 2, 1, 2],\n",
              "       [3, 4, 3, 4]])"
            ]
          },
          "metadata": {
            "tags": []
          },
          "execution_count": 6
        }
      ]
    },
    {
      "cell_type": "markdown",
      "metadata": {
        "id": "yMX9Qo9FlfpY"
      },
      "source": [
        "## Simple Concatenation with pd.concat\r\n",
        "- Signature in Pandas v0.18:\r\n",
        "\r\n",
        "pd.concat(objs, axis=0, join='outer', join_axes=None, ignore_index=False, keys=None, levels=None, names=None, verify_integrity=False, copy=True)"
      ]
    },
    {
      "cell_type": "code",
      "metadata": {
        "colab": {
          "base_uri": "https://localhost:8080/"
        },
        "id": "51jma_vPlYPM",
        "outputId": "4cb6b18c-9e8e-4ced-a5c2-d12bd78c3fe7"
      },
      "source": [
        "ser1 = pd.Series(['A', 'B', 'C'], index=[1, 2, 3])\r\n",
        "ser2 = pd.Series(['D', 'E', 'F'], index=[4, 5, 6])\r\n",
        "pd.concat([ser1, ser2])"
      ],
      "execution_count": null,
      "outputs": [
        {
          "output_type": "execute_result",
          "data": {
            "text/plain": [
              "1    A\n",
              "2    B\n",
              "3    C\n",
              "4    D\n",
              "5    E\n",
              "6    F\n",
              "dtype: object"
            ]
          },
          "metadata": {
            "tags": []
          },
          "execution_count": 7
        }
      ]
    },
    {
      "cell_type": "code",
      "metadata": {
        "colab": {
          "base_uri": "https://localhost:8080/"
        },
        "id": "xeGgeda_pfLE",
        "outputId": "b967c587-a93b-4d10-dbf4-706fdd3445ff"
      },
      "source": [
        "df1 = make_df('AB', [1, 2])\r\n",
        "df2 = make_df('AB', [3, 4])\r\n",
        "print(df1); print(df2); print(pd.concat([df1, df2]))"
      ],
      "execution_count": null,
      "outputs": [
        {
          "output_type": "stream",
          "text": [
            "    A   B\n",
            "1  A1  B1\n",
            "2  A2  B2\n",
            "    A   B\n",
            "3  A3  B3\n",
            "4  A4  B4\n",
            "    A   B\n",
            "1  A1  B1\n",
            "2  A2  B2\n",
            "3  A3  B3\n",
            "4  A4  B4\n"
          ],
          "name": "stdout"
        }
      ]
    },
    {
      "cell_type": "code",
      "metadata": {
        "colab": {
          "base_uri": "https://localhost:8080/"
        },
        "id": "UR7PJfoDqpxV",
        "outputId": "a2520d85-ee1f-4db6-f504-3e36719bd431"
      },
      "source": [
        "df3 = make_df('AB', [0, 1])\r\n",
        "df4 = make_df('CD', [0, 1])\r\n",
        "print(df3); print(df4); print(pd.concat([df3, df4], axis=1))"
      ],
      "execution_count": null,
      "outputs": [
        {
          "output_type": "stream",
          "text": [
            "    A   B\n",
            "0  A0  B0\n",
            "1  A1  B1\n",
            "    C   D\n",
            "0  C0  D0\n",
            "1  C1  D1\n",
            "    A   B   C   D\n",
            "0  A0  B0  C0  D0\n",
            "1  A1  B1  C1  D1\n"
          ],
          "name": "stdout"
        }
      ]
    },
    {
      "cell_type": "code",
      "metadata": {
        "id": "2EK29kP8tANz"
      },
      "source": [
        ""
      ],
      "execution_count": null,
      "outputs": []
    },
    {
      "cell_type": "markdown",
      "metadata": {
        "id": "NDKfNzvAtAlN"
      },
      "source": [
        "### Duplicate indices"
      ]
    },
    {
      "cell_type": "code",
      "metadata": {
        "colab": {
          "base_uri": "https://localhost:8080/"
        },
        "id": "qqGajqc2q8xm",
        "outputId": "49cd5a01-d8e2-4646-a285-b347a2689a11"
      },
      "source": [
        "x = make_df('AB', [0, 1])\r\n",
        "y = make_df('AB', [2, 3])\r\n",
        "print(x); print(y)"
      ],
      "execution_count": null,
      "outputs": [
        {
          "output_type": "stream",
          "text": [
            "    A   B\n",
            "0  A0  B0\n",
            "1  A1  B1\n",
            "    A   B\n",
            "2  A2  B2\n",
            "3  A3  B3\n"
          ],
          "name": "stdout"
        }
      ]
    },
    {
      "cell_type": "code",
      "metadata": {
        "id": "vcEc5jY7xi8z"
      },
      "source": [
        "y.index = x.index"
      ],
      "execution_count": null,
      "outputs": []
    },
    {
      "cell_type": "code",
      "metadata": {
        "colab": {
          "base_uri": "https://localhost:8080/"
        },
        "id": "1BAKvtJmyjRi",
        "outputId": "0e2bec9d-50f5-4b26-cb89-f1cac2750982"
      },
      "source": [
        "print(pd.concat([y,x]))"
      ],
      "execution_count": null,
      "outputs": [
        {
          "output_type": "stream",
          "text": [
            "    A   B\n",
            "0  A2  B2\n",
            "1  A3  B3\n",
            "0  A0  B0\n",
            "1  A1  B1\n"
          ],
          "name": "stdout"
        }
      ]
    },
    {
      "cell_type": "markdown",
      "metadata": {
        "id": "2Ce-3TgB1Wdw"
      },
      "source": [
        "### Catching the repeats as an error."
      ]
    },
    {
      "cell_type": "code",
      "metadata": {
        "colab": {
          "base_uri": "https://localhost:8080/"
        },
        "id": "d87wuDWq0-nQ",
        "outputId": "04887943-0abb-4f13-9218-25ccb72c9656"
      },
      "source": [
        "try:\r\n",
        "  pd.concat([x, y], verify_integrity=True)\r\n",
        "except ValueError as e:\r\n",
        "  print(\"ValueError:\", e)"
      ],
      "execution_count": null,
      "outputs": [
        {
          "output_type": "stream",
          "text": [
            "ValueError: Indexes have overlapping values: Int64Index([0, 1], dtype='int64')\n"
          ],
          "name": "stdout"
        }
      ]
    },
    {
      "cell_type": "markdown",
      "metadata": {
        "id": "FdD77AVd3NjS"
      },
      "source": [
        "### Ignoring the index."
      ]
    },
    {
      "cell_type": "code",
      "metadata": {
        "colab": {
          "base_uri": "https://localhost:8080/"
        },
        "id": "SBUCCJVO17so",
        "outputId": "1da4a709-a5ae-410a-8362-56e807f669e6"
      },
      "source": [
        "print(x); print(y); print(pd.concat([x, y], ignore_index=True))"
      ],
      "execution_count": null,
      "outputs": [
        {
          "output_type": "stream",
          "text": [
            "    A   B\n",
            "0  A0  B0\n",
            "1  A1  B1\n",
            "    A   B\n",
            "0  A2  B2\n",
            "1  A3  B3\n",
            "    A   B\n",
            "0  A0  B0\n",
            "1  A1  B1\n",
            "2  A2  B2\n",
            "3  A3  B3\n"
          ],
          "name": "stdout"
        }
      ]
    },
    {
      "cell_type": "markdown",
      "metadata": {
        "id": "jXqjP1bm4Of9"
      },
      "source": [
        "### Adding MultiIndex keys."
      ]
    },
    {
      "cell_type": "code",
      "metadata": {
        "colab": {
          "base_uri": "https://localhost:8080/"
        },
        "id": "tfvWjnmF38j0",
        "outputId": "4ad2e5ff-ed37-43fb-8886-938d93f35f04"
      },
      "source": [
        "print(x); print(y); print(pd.concat([x, y], keys=['x', 'y']))"
      ],
      "execution_count": null,
      "outputs": [
        {
          "output_type": "stream",
          "text": [
            "    A   B\n",
            "0  A0  B0\n",
            "1  A1  B1\n",
            "    A   B\n",
            "0  A2  B2\n",
            "1  A3  B3\n",
            "      A   B\n",
            "x 0  A0  B0\n",
            "  1  A1  B1\n",
            "y 0  A2  B2\n",
            "  1  A3  B3\n"
          ],
          "name": "stdout"
        }
      ]
    },
    {
      "cell_type": "markdown",
      "metadata": {
        "id": "lJkVVeRw69dr"
      },
      "source": [
        "### Concatenation with joins."
      ]
    },
    {
      "cell_type": "code",
      "metadata": {
        "colab": {
          "base_uri": "https://localhost:8080/"
        },
        "id": "8Ts0cRgC4sHY",
        "outputId": "ef60bb3b-3a05-475d-db49-b448bcb729fa"
      },
      "source": [
        "df5 = make_df('ABC', [1, 2])\r\n",
        "df6 = make_df('BCD', [3, 4])\r\n",
        "print(df5); print(df6); print(pd.concat([df5, df6]))"
      ],
      "execution_count": null,
      "outputs": [
        {
          "output_type": "stream",
          "text": [
            "    A   B   C\n",
            "1  A1  B1  C1\n",
            "2  A2  B2  C2\n",
            "    B   C   D\n",
            "3  B3  C3  D3\n",
            "4  B4  C4  D4\n",
            "     A   B   C    D\n",
            "1   A1  B1  C1  NaN\n",
            "2   A2  B2  C2  NaN\n",
            "3  NaN  B3  C3   D3\n",
            "4  NaN  B4  C4   D4\n"
          ],
          "name": "stdout"
        }
      ]
    },
    {
      "cell_type": "code",
      "metadata": {
        "colab": {
          "base_uri": "https://localhost:8080/"
        },
        "id": "C0O8XEEQ7Zux",
        "outputId": "caa46154-dca2-46d7-8ca7-0f57887bd558"
      },
      "source": [
        "print(df5); print(df6);\r\n",
        "print(pd.concat([df5, df6],join = 'inner'))"
      ],
      "execution_count": null,
      "outputs": [
        {
          "output_type": "stream",
          "text": [
            "    A   B   C\n",
            "1  A1  B1  C1\n",
            "2  A2  B2  C2\n",
            "    B   C   D\n",
            "3  B3  C3  D3\n",
            "4  B4  C4  D4\n",
            "    B   C\n",
            "1  B1  C1\n",
            "2  B2  C2\n",
            "3  B3  C3\n",
            "4  B4  C4\n"
          ],
          "name": "stdout"
        }
      ]
    },
    {
      "cell_type": "code",
      "metadata": {
        "colab": {
          "base_uri": "https://localhost:8080/",
          "height": 298
        },
        "id": "qUzlQ-zYBV95",
        "outputId": "e5e09ce4-2f71-48b6-e17a-50584ac4e2a9"
      },
      "source": [
        "print(df5); print(df6);\r\n",
        "print(pd.concat([df5, df6],join_axes=[df5.columns]))"
      ],
      "execution_count": null,
      "outputs": [
        {
          "output_type": "stream",
          "text": [
            "    A   B   C\n",
            "1  A1  B1  C1\n",
            "2  A2  B2  C2\n",
            "    B   C   D\n",
            "3  B3  C3  D3\n",
            "4  B4  C4  D4\n"
          ],
          "name": "stdout"
        },
        {
          "output_type": "error",
          "ename": "TypeError",
          "evalue": "ignored",
          "traceback": [
            "\u001b[0;31m---------------------------------------------------------------------------\u001b[0m",
            "\u001b[0;31mTypeError\u001b[0m                                 Traceback (most recent call last)",
            "\u001b[0;32m<ipython-input-36-370e46cdbe16>\u001b[0m in \u001b[0;36m<module>\u001b[0;34m()\u001b[0m\n\u001b[1;32m      1\u001b[0m \u001b[0mprint\u001b[0m\u001b[0;34m(\u001b[0m\u001b[0mdf5\u001b[0m\u001b[0;34m)\u001b[0m\u001b[0;34m;\u001b[0m \u001b[0mprint\u001b[0m\u001b[0;34m(\u001b[0m\u001b[0mdf6\u001b[0m\u001b[0;34m)\u001b[0m\u001b[0;34m;\u001b[0m\u001b[0;34m\u001b[0m\u001b[0;34m\u001b[0m\u001b[0m\n\u001b[0;32m----> 2\u001b[0;31m \u001b[0mprint\u001b[0m\u001b[0;34m(\u001b[0m\u001b[0mpd\u001b[0m\u001b[0;34m.\u001b[0m\u001b[0mconcat\u001b[0m\u001b[0;34m(\u001b[0m\u001b[0;34m[\u001b[0m\u001b[0mdf5\u001b[0m\u001b[0;34m,\u001b[0m \u001b[0mdf6\u001b[0m\u001b[0;34m]\u001b[0m\u001b[0;34m,\u001b[0m\u001b[0mjoin_axes\u001b[0m\u001b[0;34m=\u001b[0m\u001b[0;34m[\u001b[0m\u001b[0mdf5\u001b[0m\u001b[0;34m.\u001b[0m\u001b[0mcolumns\u001b[0m\u001b[0;34m]\u001b[0m\u001b[0;34m)\u001b[0m\u001b[0;34m)\u001b[0m\u001b[0;34m\u001b[0m\u001b[0;34m\u001b[0m\u001b[0m\n\u001b[0m",
            "\u001b[0;31mTypeError\u001b[0m: concat() got an unexpected keyword argument 'join_axes'"
          ]
        }
      ]
    },
    {
      "cell_type": "markdown",
      "metadata": {
        "id": "PdC9uD-MFBK5"
      },
      "source": [
        "### The append() method"
      ]
    },
    {
      "cell_type": "code",
      "metadata": {
        "colab": {
          "base_uri": "https://localhost:8080/"
        },
        "id": "IyFcrJXdDiIE",
        "outputId": "200c9afa-5afb-462a-a00a-ec3d954587f0"
      },
      "source": [
        "print(df1); print(df2); print(df1.append(df2))"
      ],
      "execution_count": null,
      "outputs": [
        {
          "output_type": "stream",
          "text": [
            "    A   B\n",
            "1  A1  B1\n",
            "2  A2  B2\n",
            "    A   B\n",
            "3  A3  B3\n",
            "4  A4  B4\n",
            "    A   B\n",
            "1  A1  B1\n",
            "2  A2  B2\n",
            "3  A3  B3\n",
            "4  A4  B4\n"
          ],
          "name": "stdout"
        }
      ]
    }
  ]
}