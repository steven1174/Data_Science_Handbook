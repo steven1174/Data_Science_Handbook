{
  "nbformat": 4,
  "nbformat_minor": 0,
  "metadata": {
    "kernelspec": {
      "display_name": "Python 3",
      "language": "python",
      "name": "python3"
    },
    "language_info": {
      "codemirror_mode": {
        "name": "ipython",
        "version": 3
      },
      "file_extension": ".py",
      "mimetype": "text/x-python",
      "name": "python",
      "nbconvert_exporter": "python",
      "pygments_lexer": "ipython3",
      "version": "3.7.6"
    },
    "colab": {
      "name": "2.The Basics of NumPy Arrays.ipynb",
      "provenance": []
    }
  },
  "cells": [
    {
      "cell_type": "markdown",
      "metadata": {
        "id": "_bGjrn0XZ-6U"
      },
      "source": [
        "# The Basics of NumPy Arrays"
      ]
    },
    {
      "cell_type": "markdown",
      "metadata": {
        "id": "ER-WqlJMZ-6c"
      },
      "source": [
        "- **Attributes of arrays:**\n",
        "Determining the size, shape, memory consumption, and data types of arrays.\n",
        "- **Indexing of arrays:**\n",
        "Getting and setting the value of individual array elements.\n",
        "- **Slicing of arrays:**\n",
        "Getting and setting smaller subarrays within a larger array.\n",
        "- **Reshaping of arrays:**\n",
        "Changing the shape of a given array.\n",
        "- **Joining and splitting of arrays:**\n",
        "Combining multiple arrays into one, and splitting one array into many."
      ]
    },
    {
      "cell_type": "markdown",
      "metadata": {
        "id": "Ur_VnLPIaQTO"
      },
      "source": [
        "## NumPy Array Attributes"
      ]
    },
    {
      "cell_type": "code",
      "metadata": {
        "id": "L0jZWNm2Z-6c"
      },
      "source": [
        "import numpy as np\n",
        "\n",
        "np.random.seed(0) # seed for reproducibility\n",
        "\n",
        "x1 = np.random.randint(10, size=6) # One-dimensional array\n",
        "x2 = np.random.randint(10, size=(3, 4)) # Two-dimensional array\n",
        "x3 = np.random.randint(10, size=(3, 4, 5)) # Three-dimensional array"
      ],
      "execution_count": 1,
      "outputs": []
    },
    {
      "cell_type": "code",
      "metadata": {
        "id": "IA3lD5ppZ-6d",
        "outputId": "27bf9c89-bc6b-4606-8029-81f9c605060a"
      },
      "source": [
        "print(\"x3 ndim: \", x3.ndim)\n",
        "print(\"x3 shape:\", x3.shape)\n",
        "print(\"x3 size: \", x3.size)"
      ],
      "execution_count": null,
      "outputs": [
        {
          "output_type": "stream",
          "text": [
            "x3 ndim:  3\n",
            "x3 shape: (3, 4, 5)\n",
            "x3 size:  60\n"
          ],
          "name": "stdout"
        }
      ]
    },
    {
      "cell_type": "code",
      "metadata": {
        "id": "4yzBfNYXZ-6f",
        "outputId": "467efd0e-a02e-4e9e-ee6a-ae6d72206098",
        "colab": {
          "base_uri": "https://localhost:8080/"
        }
      },
      "source": [
        "print(\"dtype:\", x3.dtype)\r\n",
        "print(\"itemsize:\", x3.itemsize, \"bytes\")\r\n",
        "print(\"nbytes:\", x3.nbytes, \"bytes\")"
      ],
      "execution_count": 6,
      "outputs": [
        {
          "output_type": "stream",
          "text": [
            "dtype: int64\n",
            "itemsize: 8 bytes\n",
            "nbytes: 480 bytes\n"
          ],
          "name": "stdout"
        }
      ]
    },
    {
      "cell_type": "markdown",
      "metadata": {
        "id": "ytXZQOjJbVdk"
      },
      "source": [
        "## Array Indexing: Accessing Single Elements"
      ]
    },
    {
      "cell_type": "code",
      "metadata": {
        "id": "GgiIBa8dbXas",
        "outputId": "aa7df431-8beb-4457-81c5-fcf1432cddb2",
        "colab": {
          "base_uri": "https://localhost:8080/"
        }
      },
      "source": [
        "l = []\r\n",
        "for i in range(x1.size):\r\n",
        "  l.append(x1[i])\r\n",
        "\r\n",
        "l"
      ],
      "execution_count": 13,
      "outputs": [
        {
          "output_type": "execute_result",
          "data": {
            "text/plain": [
              "[5, 0, 3, 3, 7, 9]"
            ]
          },
          "metadata": {
            "tags": []
          },
          "execution_count": 13
        }
      ]
    },
    {
      "cell_type": "markdown",
      "metadata": {
        "id": "Wb1SMpRncr7S"
      },
      "source": [
        "## Array Slicing: Accessing Subarrays\r\n",
        "- x[start:stop:step]\r\n",
        "### One-dimensional subarrays"
      ]
    },
    {
      "cell_type": "code",
      "metadata": {
        "id": "OXvycOXFdUXR",
        "outputId": "9f27f77f-3117-4eb3-dac9-31a5c907b7fb",
        "colab": {
          "base_uri": "https://localhost:8080/"
        }
      },
      "source": [
        "x = np.arange(10)\r\n",
        "x"
      ],
      "execution_count": 16,
      "outputs": [
        {
          "output_type": "execute_result",
          "data": {
            "text/plain": [
              "array([0, 1, 2, 3, 4, 5, 6, 7, 8, 9])"
            ]
          },
          "metadata": {
            "tags": []
          },
          "execution_count": 16
        }
      ]
    },
    {
      "cell_type": "code",
      "metadata": {
        "id": "P4SYS-0TZ-6f",
        "outputId": "5a2c8d0f-1c7c-413b-9a67-f4ca8f5ce621",
        "colab": {
          "base_uri": "https://localhost:8080/"
        }
      },
      "source": [
        "x[:5] # first five elements\r\n",
        "x[5:] # elements after index 5\r\n",
        "x[4:7] # middle subarray\r\n",
        "x[::2] # every other element\r\n",
        "x[1::2] # every other element, starting at index 1\r\n",
        "x[::-1] # all elements, reversed\r\n",
        "x[5::-2] # reversed every other from index 5"
      ],
      "execution_count": 17,
      "outputs": [
        {
          "output_type": "execute_result",
          "data": {
            "text/plain": [
              "array([5, 3, 1])"
            ]
          },
          "metadata": {
            "tags": []
          },
          "execution_count": 17
        }
      ]
    },
    {
      "cell_type": "markdown",
      "metadata": {
        "id": "VvB8NmPfdvvu"
      },
      "source": [
        "### Multidimensional subarrays"
      ]
    },
    {
      "cell_type": "code",
      "metadata": {
        "id": "MA5RNFEXdrl1",
        "outputId": "8260d582-7847-4385-bd2c-7ade008b42d3",
        "colab": {
          "base_uri": "https://localhost:8080/"
        }
      },
      "source": [
        "x2"
      ],
      "execution_count": 18,
      "outputs": [
        {
          "output_type": "execute_result",
          "data": {
            "text/plain": [
              "array([[3, 5, 2, 4],\n",
              "       [7, 6, 8, 8],\n",
              "       [1, 6, 7, 7]])"
            ]
          },
          "metadata": {
            "tags": []
          },
          "execution_count": 18
        }
      ]
    },
    {
      "cell_type": "code",
      "metadata": {
        "id": "s_0u2fmneiR0"
      },
      "source": [
        "x2[:2, :3] # two rows, three columns\r\n",
        "x2[:3, ::2] # all rows, every other column\r\n",
        "x2[::-1, ::-1]"
      ],
      "execution_count": null,
      "outputs": []
    },
    {
      "cell_type": "markdown",
      "metadata": {
        "id": "kEHsGVNIfH3D"
      },
      "source": [
        "### Accessing array rows and columns"
      ]
    },
    {
      "cell_type": "code",
      "metadata": {
        "id": "2xdw-0Nje7Sz",
        "outputId": "84e6ac2f-d6a3-4174-b271-8f0be9ee0740",
        "colab": {
          "base_uri": "https://localhost:8080/"
        }
      },
      "source": [
        "x2[:, 0]# first column of x2\r\n",
        "x2[0] # equivalent to x2[0, :]\r\n"
      ],
      "execution_count": 20,
      "outputs": [
        {
          "output_type": "execute_result",
          "data": {
            "text/plain": [
              "array([3, 5, 2, 4])"
            ]
          },
          "metadata": {
            "tags": []
          },
          "execution_count": 20
        }
      ]
    },
    {
      "cell_type": "markdown",
      "metadata": {
        "id": "sYlZEXpifp8i"
      },
      "source": [
        "### Subarrays as no-copy views"
      ]
    },
    {
      "cell_type": "code",
      "metadata": {
        "id": "6dBCWAOrfr-y",
        "outputId": "d1714355-602c-4249-f85c-595b95c2d296",
        "colab": {
          "base_uri": "https://localhost:8080/"
        }
      },
      "source": [
        "x2_sub = x2[:2, :2]\r\n",
        "x2_sub"
      ],
      "execution_count": 21,
      "outputs": [
        {
          "output_type": "execute_result",
          "data": {
            "text/plain": [
              "array([[3, 5],\n",
              "       [7, 6]])"
            ]
          },
          "metadata": {
            "tags": []
          },
          "execution_count": 21
        }
      ]
    },
    {
      "cell_type": "code",
      "metadata": {
        "id": "onk5jk5Ef1wC",
        "outputId": "cf8824af-838a-4b40-fd94-1cd81751be46",
        "colab": {
          "base_uri": "https://localhost:8080/"
        }
      },
      "source": [
        "x2_sub[0, 0] = 99\r\n",
        "x2_sub"
      ],
      "execution_count": 22,
      "outputs": [
        {
          "output_type": "execute_result",
          "data": {
            "text/plain": [
              "array([[99,  5],\n",
              "       [ 7,  6]])"
            ]
          },
          "metadata": {
            "tags": []
          },
          "execution_count": 22
        }
      ]
    },
    {
      "cell_type": "code",
      "metadata": {
        "id": "QyvCZPOzf33o",
        "outputId": "74aeb5bd-a00d-49d5-d946-92e290b96cfb",
        "colab": {
          "base_uri": "https://localhost:8080/"
        }
      },
      "source": [
        "x2"
      ],
      "execution_count": 23,
      "outputs": [
        {
          "output_type": "execute_result",
          "data": {
            "text/plain": [
              "array([[99,  5,  2,  4],\n",
              "       [ 7,  6,  8,  8],\n",
              "       [ 1,  6,  7,  7]])"
            ]
          },
          "metadata": {
            "tags": []
          },
          "execution_count": 23
        }
      ]
    },
    {
      "cell_type": "markdown",
      "metadata": {
        "id": "M8pnDtwXgAeZ"
      },
      "source": [
        "### Creating copies of arrays"
      ]
    },
    {
      "cell_type": "code",
      "metadata": {
        "id": "RGXYevdBf7EV",
        "outputId": "71e23d66-20c0-4470-811b-d4c629ef62df",
        "colab": {
          "base_uri": "https://localhost:8080/"
        }
      },
      "source": [
        "x2_sub_copy = x2[:2, :2].copy()\r\n",
        "x2_sub_copy"
      ],
      "execution_count": 24,
      "outputs": [
        {
          "output_type": "execute_result",
          "data": {
            "text/plain": [
              "array([[99,  5],\n",
              "       [ 7,  6]])"
            ]
          },
          "metadata": {
            "tags": []
          },
          "execution_count": 24
        }
      ]
    },
    {
      "cell_type": "code",
      "metadata": {
        "id": "cazuu3LigJNz"
      },
      "source": [
        "x2_sub_copy[0, 0] = 42"
      ],
      "execution_count": 25,
      "outputs": []
    },
    {
      "cell_type": "code",
      "metadata": {
        "id": "IfDAi2MpgzyF",
        "outputId": "5228e26b-8e64-47b7-bf5f-2cf75bfa9c22",
        "colab": {
          "base_uri": "https://localhost:8080/"
        }
      },
      "source": [
        "x2"
      ],
      "execution_count": 26,
      "outputs": [
        {
          "output_type": "execute_result",
          "data": {
            "text/plain": [
              "array([[99,  5,  2,  4],\n",
              "       [ 7,  6,  8,  8],\n",
              "       [ 1,  6,  7,  7]])"
            ]
          },
          "metadata": {
            "tags": []
          },
          "execution_count": 26
        }
      ]
    },
    {
      "cell_type": "markdown",
      "metadata": {
        "id": "bYlgSAzSg3zK"
      },
      "source": [
        "## Reshaping of Arrays"
      ]
    },
    {
      "cell_type": "code",
      "metadata": {
        "id": "Wxc_NxNig0ks",
        "outputId": "089e5fbf-c6af-4502-9126-112064f5efd6",
        "colab": {
          "base_uri": "https://localhost:8080/"
        }
      },
      "source": [
        "grid = np.arange(1,10).reshape((3, 3))\r\n",
        "grid"
      ],
      "execution_count": 27,
      "outputs": [
        {
          "output_type": "execute_result",
          "data": {
            "text/plain": [
              "array([[1, 2, 3],\n",
              "       [4, 5, 6],\n",
              "       [7, 8, 9]])"
            ]
          },
          "metadata": {
            "tags": []
          },
          "execution_count": 27
        }
      ]
    },
    {
      "cell_type": "code",
      "metadata": {
        "id": "w5hsryCEkhGh",
        "outputId": "a2ef8d63-4ac5-4729-c100-8f077bd400a5",
        "colab": {
          "base_uri": "https://localhost:8080/"
        }
      },
      "source": [
        "x = np.array([1, 2, 3])\r\n",
        "\r\n",
        "# row vector via reshape\r\n",
        "x.reshape((1, 3))"
      ],
      "execution_count": 36,
      "outputs": [
        {
          "output_type": "execute_result",
          "data": {
            "text/plain": [
              "array([[1, 2, 3]])"
            ]
          },
          "metadata": {
            "tags": []
          },
          "execution_count": 36
        }
      ]
    },
    {
      "cell_type": "code",
      "metadata": {
        "id": "u0BNmTHkk5aJ",
        "outputId": "a482cfef-6c02-49ef-b972-d0502ea5396f",
        "colab": {
          "base_uri": "https://localhost:8080/"
        }
      },
      "source": [
        "x[np.newaxis, :]"
      ],
      "execution_count": 32,
      "outputs": [
        {
          "output_type": "execute_result",
          "data": {
            "text/plain": [
              "array([[1, 2, 3]])"
            ]
          },
          "metadata": {
            "tags": []
          },
          "execution_count": 32
        }
      ]
    },
    {
      "cell_type": "code",
      "metadata": {
        "id": "x490oMTGk6cD",
        "outputId": "3948147e-6791-42f2-ec22-d138f2d028ad",
        "colab": {
          "base_uri": "https://localhost:8080/"
        }
      },
      "source": [
        "x.reshape((3, 1))"
      ],
      "execution_count": 33,
      "outputs": [
        {
          "output_type": "execute_result",
          "data": {
            "text/plain": [
              "array([[1],\n",
              "       [2],\n",
              "       [3]])"
            ]
          },
          "metadata": {
            "tags": []
          },
          "execution_count": 33
        }
      ]
    },
    {
      "cell_type": "code",
      "metadata": {
        "id": "-GRE_3lvlDkn",
        "outputId": "c6bd27da-93e7-4376-9553-c6c3459a6d74",
        "colab": {
          "base_uri": "https://localhost:8080/"
        }
      },
      "source": [
        "x[:,np.newaxis]"
      ],
      "execution_count": 34,
      "outputs": [
        {
          "output_type": "execute_result",
          "data": {
            "text/plain": [
              "array([[1],\n",
              "       [2],\n",
              "       [3]])"
            ]
          },
          "metadata": {
            "tags": []
          },
          "execution_count": 34
        }
      ]
    },
    {
      "cell_type": "markdown",
      "metadata": {
        "id": "dupc-9wylMYn"
      },
      "source": [
        "## Array Concatenation and Splitting\r\n",
        "### Concatenation of arrays"
      ]
    },
    {
      "cell_type": "code",
      "metadata": {
        "id": "2tJ2iCj9lOQO"
      },
      "source": [
        "x = np.array([1, 2, 3])\r\n",
        "y = np.array([3, 2, 1])"
      ],
      "execution_count": 37,
      "outputs": []
    },
    {
      "cell_type": "code",
      "metadata": {
        "id": "h66FIGsHnG0S",
        "outputId": "3de4a304-fb01-4f3d-bb42-cd560846df4d",
        "colab": {
          "base_uri": "https://localhost:8080/"
        }
      },
      "source": [
        "np.concatenate([x, y])"
      ],
      "execution_count": 38,
      "outputs": [
        {
          "output_type": "execute_result",
          "data": {
            "text/plain": [
              "array([1, 2, 3, 3, 2, 1])"
            ]
          },
          "metadata": {
            "tags": []
          },
          "execution_count": 38
        }
      ]
    },
    {
      "cell_type": "code",
      "metadata": {
        "id": "2mKbJ-tInQKx",
        "outputId": "6edf40af-c081-4dfe-e9b2-fe6182c3fea9",
        "colab": {
          "base_uri": "https://localhost:8080/"
        }
      },
      "source": [
        "z = [99, 99, 99]\r\n",
        "print(np.concatenate([x, y, z]))"
      ],
      "execution_count": 39,
      "outputs": [
        {
          "output_type": "stream",
          "text": [
            "[ 1  2  3  3  2  1 99 99 99]\n"
          ],
          "name": "stdout"
        }
      ]
    },
    {
      "cell_type": "code",
      "metadata": {
        "id": "KWhHcywCnXHC",
        "outputId": "8449838e-5903-4a75-e8f9-4fbcf2cab19c",
        "colab": {
          "base_uri": "https://localhost:8080/"
        }
      },
      "source": [
        "grid = np.array([[1, 2, 3],\r\n",
        "                 [4, 5, 6]])\r\n",
        "\r\n",
        "# concatenate along the first axis\r\n",
        "np.concatenate([grid, grid])"
      ],
      "execution_count": 40,
      "outputs": [
        {
          "output_type": "execute_result",
          "data": {
            "text/plain": [
              "array([[1, 2, 3],\n",
              "       [4, 5, 6],\n",
              "       [1, 2, 3],\n",
              "       [4, 5, 6]])"
            ]
          },
          "metadata": {
            "tags": []
          },
          "execution_count": 40
        }
      ]
    },
    {
      "cell_type": "code",
      "metadata": {
        "id": "KMfOh0OYnfIJ",
        "outputId": "a0aebfb0-81d4-4381-c40c-b0f1dba74002",
        "colab": {
          "base_uri": "https://localhost:8080/"
        }
      },
      "source": [
        "# concatenate along the second axis (zero-indexed)\r\n",
        "np.concatenate([grid, grid], axis=1)"
      ],
      "execution_count": 41,
      "outputs": [
        {
          "output_type": "execute_result",
          "data": {
            "text/plain": [
              "array([[1, 2, 3, 1, 2, 3],\n",
              "       [4, 5, 6, 4, 5, 6]])"
            ]
          },
          "metadata": {
            "tags": []
          },
          "execution_count": 41
        }
      ]
    },
    {
      "cell_type": "code",
      "metadata": {
        "id": "Ue_4wAFrosZ1",
        "outputId": "6733c7fa-841c-4ef6-b50b-bf7e1a1ea355",
        "colab": {
          "base_uri": "https://localhost:8080/"
        }
      },
      "source": [
        "x = np.array([1, 2, 3])\r\n",
        "grid = np.array([[9, 8, 7],\r\n",
        "                 [6, 5, 4]])\r\n",
        "\r\n",
        "# vertically stack the arrays \r\n",
        "np.vstack([x, grid])"
      ],
      "execution_count": 42,
      "outputs": [
        {
          "output_type": "execute_result",
          "data": {
            "text/plain": [
              "array([[1, 2, 3],\n",
              "       [9, 8, 7],\n",
              "       [6, 5, 4]])"
            ]
          },
          "metadata": {
            "tags": []
          },
          "execution_count": 42
        }
      ]
    },
    {
      "cell_type": "code",
      "metadata": {
        "id": "ooJc24s7o-d_",
        "outputId": "66999577-1fe8-4a61-a352-64f9bc0e83d8",
        "colab": {
          "base_uri": "https://localhost:8080/"
        }
      },
      "source": [
        "y = np.array([[99],\r\n",
        "              [99]])\r\n",
        "\r\n",
        "# horizontally stack the arrays\r\n",
        "np.hstack([grid, y])"
      ],
      "execution_count": 43,
      "outputs": [
        {
          "output_type": "execute_result",
          "data": {
            "text/plain": [
              "array([[ 9,  8,  7, 99],\n",
              "       [ 6,  5,  4, 99]])"
            ]
          },
          "metadata": {
            "tags": []
          },
          "execution_count": 43
        }
      ]
    },
    {
      "cell_type": "markdown",
      "metadata": {
        "id": "2sNOPYgtm0g0"
      },
      "source": [
        "### Splitting of arrays"
      ]
    },
    {
      "cell_type": "code",
      "metadata": {
        "id": "O88l9nnKpLu-",
        "outputId": "5f1a9ef2-d3b2-44c5-96d7-ecdff81e7f84",
        "colab": {
          "base_uri": "https://localhost:8080/"
        }
      },
      "source": [
        "x = [1, 2, 3, 99, 99, 3, 2, 1]\r\n",
        "x1, x2, x3 = np.split(x, [3, 5])\r\n",
        "print(x1, x2, x3)"
      ],
      "execution_count": 44,
      "outputs": [
        {
          "output_type": "stream",
          "text": [
            "[1 2 3] [99 99] [3 2 1]\n"
          ],
          "name": "stdout"
        }
      ]
    },
    {
      "cell_type": "code",
      "metadata": {
        "id": "skDha1HnqJym",
        "outputId": "5b84f2df-6293-4b71-a5e5-50e0c6cfeaaa",
        "colab": {
          "base_uri": "https://localhost:8080/"
        }
      },
      "source": [
        "grid = np.arange(16).reshape((4, 4))\r\n",
        "grid"
      ],
      "execution_count": 45,
      "outputs": [
        {
          "output_type": "execute_result",
          "data": {
            "text/plain": [
              "array([[ 0,  1,  2,  3],\n",
              "       [ 4,  5,  6,  7],\n",
              "       [ 8,  9, 10, 11],\n",
              "       [12, 13, 14, 15]])"
            ]
          },
          "metadata": {
            "tags": []
          },
          "execution_count": 45
        }
      ]
    },
    {
      "cell_type": "code",
      "metadata": {
        "id": "VPO5nYuvrDsl",
        "outputId": "3784ee97-f47b-4412-9824-858a541a842d",
        "colab": {
          "base_uri": "https://localhost:8080/"
        }
      },
      "source": [
        "upper, lower = np.vsplit(grid, [2])\r\n",
        "print(upper,'\\n')\r\n",
        "print(lower)"
      ],
      "execution_count": 48,
      "outputs": [
        {
          "output_type": "stream",
          "text": [
            "[[0 1 2 3]\n",
            " [4 5 6 7]] \n",
            "\n",
            "[[ 8  9 10 11]\n",
            " [12 13 14 15]]\n"
          ],
          "name": "stdout"
        }
      ]
    },
    {
      "cell_type": "code",
      "metadata": {
        "id": "Lm-vxCCHrIq0",
        "outputId": "8545612f-6516-47f6-ca98-85b6651b4ec0",
        "colab": {
          "base_uri": "https://localhost:8080/"
        }
      },
      "source": [
        "left, right = np.hsplit(grid, [2])\r\n",
        "print(left,'\\n')\r\n",
        "print(right)"
      ],
      "execution_count": 49,
      "outputs": [
        {
          "output_type": "stream",
          "text": [
            "[[ 0  1]\n",
            " [ 4  5]\n",
            " [ 8  9]\n",
            " [12 13]] \n",
            "\n",
            "[[ 2  3]\n",
            " [ 6  7]\n",
            " [10 11]\n",
            " [14 15]]\n"
          ],
          "name": "stdout"
        }
      ]
    }
  ]
}