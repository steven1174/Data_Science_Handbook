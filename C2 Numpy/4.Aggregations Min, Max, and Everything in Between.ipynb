{
  "nbformat": 4,
  "nbformat_minor": 0,
  "metadata": {
    "colab": {
      "name": "4. Aggregations: Min, Max, and Everything in Between.ipynb",
      "provenance": [],
      "authorship_tag": "ABX9TyNPg9arnvh0j0+Le2/TAtJU",
      "include_colab_link": true
    },
    "kernelspec": {
      "name": "python3",
      "display_name": "Python 3"
    }
  },
  "cells": [
    {
      "cell_type": "markdown",
      "metadata": {
        "id": "view-in-github",
        "colab_type": "text"
      },
      "source": [
        "<a href=\"https://colab.research.google.com/github/steven1174/Data_Science_Handbook/blob/main/4.%20Aggregations%20Min%2C%20Max%2C%20and%20Everything%20in%20Between.ipynb\" target=\"_parent\"><img src=\"https://colab.research.google.com/assets/colab-badge.svg\" alt=\"Open In Colab\"/></a>"
      ]
    },
    {
      "cell_type": "markdown",
      "metadata": {
        "id": "nX-Ky6I7lTmH"
      },
      "source": [
        "# Aggregations: Min, Max, and Everything in Between\r\n",
        "## Summing the Values in an Array"
      ]
    },
    {
      "cell_type": "code",
      "metadata": {
        "colab": {
          "base_uri": "https://localhost:8080/"
        },
        "id": "d40NN642lXB_",
        "outputId": "f6c5a669-6c9d-4c13-f69d-85f8369d360d"
      },
      "source": [
        "import numpy as np\r\n",
        "\r\n",
        "L = np.random.random(100)\r\n",
        "sum(L)"
      ],
      "execution_count": null,
      "outputs": [
        {
          "output_type": "execute_result",
          "data": {
            "text/plain": [
              "53.67314528586977"
            ]
          },
          "metadata": {
            "tags": []
          },
          "execution_count": 1
        }
      ]
    },
    {
      "cell_type": "code",
      "metadata": {
        "colab": {
          "base_uri": "https://localhost:8080/"
        },
        "id": "24u6vFmGljQJ",
        "outputId": "62d2b53c-63df-4f47-b90c-1492da5478b2"
      },
      "source": [
        "np.sum(L)"
      ],
      "execution_count": null,
      "outputs": [
        {
          "output_type": "execute_result",
          "data": {
            "text/plain": [
              "53.67314528586977"
            ]
          },
          "metadata": {
            "tags": []
          },
          "execution_count": 2
        }
      ]
    },
    {
      "cell_type": "code",
      "metadata": {
        "colab": {
          "base_uri": "https://localhost:8080/"
        },
        "id": "hoX4BzFZlm5e",
        "outputId": "6961f797-23f5-4daf-ed71-2ae547911d69"
      },
      "source": [
        "big_array = np.random.rand(1000000)\r\n",
        "\r\n",
        "%timeit sum(big_array)\r\n",
        "%timeit np.sum(big_array)"
      ],
      "execution_count": null,
      "outputs": [
        {
          "output_type": "stream",
          "text": [
            "10 loops, best of 3: 166 ms per loop\n",
            "1000 loops, best of 3: 394 µs per loop\n"
          ],
          "name": "stdout"
        }
      ]
    },
    {
      "cell_type": "markdown",
      "metadata": {
        "id": "pIuuqgShluL1"
      },
      "source": [
        "## Minimum and Maximum"
      ]
    },
    {
      "cell_type": "code",
      "metadata": {
        "colab": {
          "base_uri": "https://localhost:8080/"
        },
        "id": "1EkSsdsCltmN",
        "outputId": "3423bbfc-aab1-4e37-f205-f742c4cc3b1e"
      },
      "source": [
        "min(big_array), max(big_array)"
      ],
      "execution_count": null,
      "outputs": [
        {
          "output_type": "execute_result",
          "data": {
            "text/plain": [
              "(2.7031490268392133e-08, 0.9999994360317874)"
            ]
          },
          "metadata": {
            "tags": []
          },
          "execution_count": 4
        }
      ]
    },
    {
      "cell_type": "code",
      "metadata": {
        "colab": {
          "base_uri": "https://localhost:8080/"
        },
        "id": "o_rqY4nalpTf",
        "outputId": "3ab07ad1-be10-48f5-e251-b3eb7a89830d"
      },
      "source": [
        "np.min(big_array), np.max(big_array)"
      ],
      "execution_count": null,
      "outputs": [
        {
          "output_type": "execute_result",
          "data": {
            "text/plain": [
              "(2.7031490268392133e-08, 0.9999994360317874)"
            ]
          },
          "metadata": {
            "tags": []
          },
          "execution_count": 5
        }
      ]
    },
    {
      "cell_type": "code",
      "metadata": {
        "colab": {
          "base_uri": "https://localhost:8080/"
        },
        "id": "j49KbzbDl04s",
        "outputId": "f92b4699-b626-43ac-9100-aac294b472ec"
      },
      "source": [
        "%timeit min(big_array)\r\n",
        "%timeit np.min(big_array)"
      ],
      "execution_count": null,
      "outputs": [
        {
          "output_type": "stream",
          "text": [
            "10 loops, best of 3: 101 ms per loop\n",
            "1000 loops, best of 3: 456 µs per loop\n"
          ],
          "name": "stdout"
        }
      ]
    },
    {
      "cell_type": "code",
      "metadata": {
        "colab": {
          "base_uri": "https://localhost:8080/"
        },
        "id": "4uGvCmkhl3s3",
        "outputId": "03724665-5bde-4254-9a5c-129f0e2202c5"
      },
      "source": [
        "print(big_array.min(), big_array.max(), big_array.sum())"
      ],
      "execution_count": null,
      "outputs": [
        {
          "output_type": "stream",
          "text": [
            "2.7031490268392133e-08 0.9999994360317874 500283.73841615755\n"
          ],
          "name": "stdout"
        }
      ]
    },
    {
      "cell_type": "markdown",
      "metadata": {
        "id": "zvi1vY63m33-"
      },
      "source": [
        "### Multidimensional aggregates"
      ]
    },
    {
      "cell_type": "code",
      "metadata": {
        "colab": {
          "base_uri": "https://localhost:8080/"
        },
        "id": "THbN1lual24m",
        "outputId": "2c90e064-0e51-40c8-f298-53387c3bf8f9"
      },
      "source": [
        "M = np.random.random((3, 4))\r\n",
        "print(M)"
      ],
      "execution_count": null,
      "outputs": [
        {
          "output_type": "stream",
          "text": [
            "[[0.51088779 0.26777632 0.34774606 0.38592932]\n",
            " [0.55862826 0.44013573 0.99893919 0.72727003]\n",
            " [0.37557565 0.8155253  0.24977511 0.85597526]]\n"
          ],
          "name": "stdout"
        }
      ]
    },
    {
      "cell_type": "code",
      "metadata": {
        "colab": {
          "base_uri": "https://localhost:8080/"
        },
        "id": "skC6uOivl3Hk",
        "outputId": "607394b5-3895-48cb-f456-1d90847bca8a"
      },
      "source": [
        "M.sum()"
      ],
      "execution_count": null,
      "outputs": [
        {
          "output_type": "execute_result",
          "data": {
            "text/plain": [
              "6.534164034483757"
            ]
          },
          "metadata": {
            "tags": []
          },
          "execution_count": 9
        }
      ]
    },
    {
      "cell_type": "code",
      "metadata": {
        "colab": {
          "base_uri": "https://localhost:8080/"
        },
        "id": "vY5gh5_nnBw5",
        "outputId": "51f003d6-8c4d-4c08-8826-595f61dd1c0b"
      },
      "source": [
        "M.min(axis=0)"
      ],
      "execution_count": null,
      "outputs": [
        {
          "output_type": "execute_result",
          "data": {
            "text/plain": [
              "array([0.37557565, 0.26777632, 0.24977511, 0.38592932])"
            ]
          },
          "metadata": {
            "tags": []
          },
          "execution_count": 10
        }
      ]
    },
    {
      "cell_type": "code",
      "metadata": {
        "colab": {
          "base_uri": "https://localhost:8080/"
        },
        "id": "VW49AHC4nLTR",
        "outputId": "c760879d-507a-4347-93f4-2bfa3e3e8f70"
      },
      "source": [
        "M.max(axis=1)"
      ],
      "execution_count": null,
      "outputs": [
        {
          "output_type": "execute_result",
          "data": {
            "text/plain": [
              "array([0.51088779, 0.99893919, 0.85597526])"
            ]
          },
          "metadata": {
            "tags": []
          },
          "execution_count": 11
        }
      ]
    },
    {
      "cell_type": "markdown",
      "metadata": {
        "id": "E4wUwsAInP-8"
      },
      "source": [
        "The way the axis is specified here can be confusing to users coming from other languages. The axis keyword specifies the dimension of the array that will be collapsed, rather than the dimension that will be returned. So specifying axis=0 means that the first axis will be collapsed: for two-dimensional arrays, this means that values within\r\n",
        "each column will be aggregated.\r\n",
        "### Other aggregation functions\r\n",
        "\r\n",
        "<html>\r\n",
        "<head>\r\n",
        "<style>\r\n",
        "table {\r\n",
        "  font-family: Times New Roman, sans-serif;\r\n",
        "  width: 100%;\r\n",
        "}\r\n",
        "td, th {\r\n",
        "  border: 2px solid #dddddd;\r\n",
        "  text-align: center;\r\n",
        "  padding: 8px;\r\n",
        "}\r\n",
        "tr:nth-child(even) {\r\n",
        "  background-color: #dddddd;\r\n",
        "}\r\n",
        "</style>\r\n",
        "</head>\r\n",
        "\r\n",
        "<body>\r\n",
        "<table>\r\n",
        "  <tr>  \r\n",
        "    <th>Function Name</th>\r\n",
        "    <th>NaN-safe Version</th>\r\n",
        "    <th>Description</th>\r\n",
        "  </tr>\r\n",
        "  <tr>\r\n",
        "    <td>np.sum</td>\r\n",
        "    <td>np.nansum</td>\r\n",
        "    <td>Compute sum of elements</td>\r\n",
        "  </tr>\r\n",
        "  <tr>\r\n",
        "    <td>np.prod</td>\r\n",
        "    <td>np.nanprod</td>\r\n",
        "    <td>Compute product of elements</td>\r\n",
        "  </tr>\r\n",
        "  <tr>\r\n",
        "    <td>np.mean</td>\r\n",
        "    <td>np.nanmean</td>\r\n",
        "    <td>Compute median of elements</td>\r\n",
        "  </tr>\r\n",
        "  <tr>\r\n",
        "    <td>np.std</td>\r\n",
        "    <td>np.nanstd</td>\r\n",
        "    <td>Compute standard deviation</td>\r\n",
        "  </tr>\r\n",
        "  <tr>\r\n",
        "    <td>np.var</td>\r\n",
        "    <td>np.nanvar</td>\r\n",
        "    <td>Compute variance</td>\r\n",
        "  </tr>\r\n",
        "  <tr>\r\n",
        "    <td>np.min</td>\r\n",
        "    <td>np.nanmin</td>\r\n",
        "    <td>Find minimum value</td>\r\n",
        "  </tr>\r\n",
        "  <tr>\r\n",
        "    <td>np.max</td>\r\n",
        "    <td>np.nanmax</td>\r\n",
        "    <td>Find maximum value</td>\r\n",
        "  </tr>\r\n",
        "  <tr>\r\n",
        "    <td>np.argmin</td>\r\n",
        "    <td>np.nanargmin</td>\r\n",
        "    <td>Find index of minimum value</td>\r\n",
        "  </tr>\r\n",
        "  <tr>\r\n",
        "    <td>np.argmax</td>\r\n",
        "    <td>np.nanargmax</td>\r\n",
        "    <td>Find index of maximum value</td>\r\n",
        "  </tr>\r\n",
        "  <tr>\r\n",
        "    <td>np.median</td>\r\n",
        "    <td>np.nanmedian</td>\r\n",
        "    <td>Compute median of elements</td>\r\n",
        "  </tr>\r\n",
        "  <tr>\r\n",
        "    <td>np.percentile</td>\r\n",
        "    <td>np.nanpercentile</td>\r\n",
        "    <td>Compute rank-based statistics of elements</td>\r\n",
        "  </tr>\r\n",
        "  <tr>\r\n",
        "    <td>np.any</td>\r\n",
        "    <td>N/A</td>\r\n",
        "    <td>Evaluate whether any elements are true</td>\r\n",
        "  </tr>\r\n",
        "  <tr>\r\n",
        "    <td>np.all</td>\r\n",
        "    <td>N/A</td>\r\n",
        "    <td>Evaluate whether all elements are true</td>\r\n",
        "  </tr>\r\n",
        "</table>\r\n",
        "\r\n",
        "</body>\r\n",
        "</html>\r\n",
        "\r\n",
        "## Example: What Is the Average Height of US Presidents?"
      ]
    },
    {
      "cell_type": "code",
      "metadata": {
        "colab": {
          "base_uri": "https://localhost:8080/"
        },
        "id": "p7C_Zdn_qzce",
        "outputId": "e3eca2a1-a6ec-4542-ba74-4bd1d6c428e4"
      },
      "source": [
        "import pandas as pd\r\n",
        "\r\n",
        "url = 'https://raw.githubusercontent.com/steven1174/Data_Science_Handbook/main/Data/president_heights.csv'\r\n",
        "data = pd.read_csv(url)\r\n",
        "\r\n",
        "heights = np.array(data['height(cm)'])\r\n",
        "print(heights)"
      ],
      "execution_count": 13,
      "outputs": [
        {
          "output_type": "stream",
          "text": [
            "[189 170 189 163 183 171 185 168 173 183 173 173 175 178 183 193 178 173\n",
            " 174 183 183 168 170 178 182 180 183 178 182 188 175 179 183 193 182 183\n",
            " 177 185 188 188 182 185]\n"
          ],
          "name": "stdout"
        }
      ]
    },
    {
      "cell_type": "code",
      "metadata": {
        "colab": {
          "base_uri": "https://localhost:8080/"
        },
        "id": "TATSOFNrrH_s",
        "outputId": "f35b15aa-273a-4650-f7b8-994c53100925"
      },
      "source": [
        "print(\"Mean height: \", heights.mean())\r\n",
        "print(\"Standard deviation:\", heights.std())\r\n",
        "print(\"Minimum height: \", heights.min())\r\n",
        "print(\"Maximum height: \", heights.max())"
      ],
      "execution_count": 14,
      "outputs": [
        {
          "output_type": "stream",
          "text": [
            "Mean height:  179.73809523809524\n",
            "Standard deviation: 6.931843442745892\n",
            "Minimum height:  163\n",
            "Maximum height:  193\n"
          ],
          "name": "stdout"
        }
      ]
    },
    {
      "cell_type": "code",
      "metadata": {
        "colab": {
          "base_uri": "https://localhost:8080/"
        },
        "id": "Jm0oAGE3rZH4",
        "outputId": "d917ce7b-047a-439e-8c4b-84f553acf26d"
      },
      "source": [
        "print(\"25th percentile: \", np.percentile(heights, 25))\r\n",
        "print(\"Median: \", np.median(heights))\r\n",
        "print(\"75th percentile: \", np.percentile(heights, 75))"
      ],
      "execution_count": 15,
      "outputs": [
        {
          "output_type": "stream",
          "text": [
            "25th percentile:  174.25\n",
            "Median:  182.0\n",
            "75th percentile:  183.0\n"
          ],
          "name": "stdout"
        }
      ]
    },
    {
      "cell_type": "code",
      "metadata": {
        "colab": {
          "base_uri": "https://localhost:8080/",
          "height": 319
        },
        "id": "4EmkAtrYsLd7",
        "outputId": "b3be2a9a-4d0c-4dda-bfa6-906f71494b55"
      },
      "source": [
        "%matplotlib inline\r\n",
        "import matplotlib.pyplot as plt\r\n",
        "import seaborn; seaborn.set() # set plot style\r\n",
        "\r\n",
        "plt.hist(heights)\r\n",
        "plt.title('Height Distribution of US Presidents')\r\n",
        "plt.xlabel('height (cm)')\r\n",
        "plt.ylabel('number')"
      ],
      "execution_count": 16,
      "outputs": [
        {
          "output_type": "execute_result",
          "data": {
            "text/plain": [
              "Text(0, 0.5, 'number')"
            ]
          },
          "metadata": {
            "tags": []
          },
          "execution_count": 16
        },
        {
          "output_type": "display_data",
          "data": {
            "image/png": "[encoded data removed]",
            "text/plain": [
              "<Figure size 432x288 with 1 Axes>"
            ]
          },
          "metadata": {
            "tags": []
          }
        }
      ]
    }
  ]
}
