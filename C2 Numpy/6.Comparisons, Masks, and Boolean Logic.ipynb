{
  "nbformat": 4,
  "nbformat_minor": 0,
  "metadata": {
    "colab": {
      "name": "6.Comparisons, Masks, and Boolean Logic.ipynb",
      "provenance": [],
      "authorship_tag": "ABX9TyN1zT0S3t01Tvt+t8349nQd",
      "include_colab_link": true
    },
    "kernelspec": {
      "name": "python3",
      "display_name": "Python 3"
    }
  },
  "cells": [
    {
      "cell_type": "markdown",
      "metadata": {
        "id": "view-in-github",
        "colab_type": "text"
      },
      "source": [
        "<a href=\"https://colab.research.google.com/github/steven1174/Data_Science_Handbook/blob/main/C2%20Numpy/6.Comparisons%2C%20Masks%2C%20and%20Boolean%20Logic.ipynb\" target=\"_parent\"><img src=\"https://colab.research.google.com/assets/colab-badge.svg\" alt=\"Open In Colab\"/></a>"
      ]
    },
    {
      "cell_type": "markdown",
      "metadata": {
        "id": "5ZaOLGWvtTnK"
      },
      "source": [
        "# Comparisons, Masks, and Boolean Logic\r\n",
        "## Example: Counting Rainy Days"
      ]
    },
    {
      "cell_type": "code",
      "metadata": {
        "id": "wVRNDsUwtbRC"
      },
      "source": [
        "import numpy as np\r\n",
        "import pandas as pd"
      ],
      "execution_count": 45,
      "outputs": []
    },
    {
      "cell_type": "code",
      "metadata": {
        "colab": {
          "base_uri": "https://localhost:8080/"
        },
        "id": "GE79wrbU5wop",
        "outputId": "f2428755-915f-4231-b45a-adaff28cda12"
      },
      "source": [
        "url = 'https://raw.githubusercontent.com/steven1174/Data_Science_Handbook/main/Data/Seattle2014.csv'\r\n",
        "rainfall = pd.read_csv(url)['PRCP'].values\r\n",
        "inches = rainfall/254 # 1/10mm -> inches\r\n",
        "inches.shape"
      ],
      "execution_count": 46,
      "outputs": [
        {
          "output_type": "execute_result",
          "data": {
            "text/plain": [
              "(365,)"
            ]
          },
          "metadata": {
            "tags": []
          },
          "execution_count": 46
        }
      ]
    },
    {
      "cell_type": "code",
      "metadata": {
        "id": "GM4zypgO6Kye"
      },
      "source": [
        "%matplotlib inline\r\n",
        "import matplotlib.pyplot as plt\r\n",
        "import seaborn; seaborn.set() # set plot styles"
      ],
      "execution_count": 48,
      "outputs": []
    },
    {
      "cell_type": "code",
      "metadata": {
        "colab": {
          "base_uri": "https://localhost:8080/",
          "height": 523
        },
        "id": "MdwcEyN16Q--",
        "outputId": "0080d1c1-c47f-41c2-8d44-b249f365c399"
      },
      "source": [
        "plt.hist(inches, 40)"
      ],
      "execution_count": 49,
      "outputs": [
        {
          "output_type": "execute_result",
          "data": {
            "text/plain": [
              "(array([245.,  14.,  13.,  17.,   8.,   6.,   5.,   6.,   4.,   3.,   7.,\n",
              "          6.,   3.,   3.,   3.,   4.,   4.,   2.,   4.,   0.,   0.,   1.,\n",
              "          1.,   1.,   0.,   0.,   0.,   2.,   1.,   1.,   0.,   0.,   0.,\n",
              "          0.,   0.,   0.,   0.,   0.,   0.,   1.]),\n",
              " array([0.        , 0.04596457, 0.09192913, 0.1378937 , 0.18385827,\n",
              "        0.22982283, 0.2757874 , 0.32175197, 0.36771654, 0.4136811 ,\n",
              "        0.45964567, 0.50561024, 0.5515748 , 0.59753937, 0.64350394,\n",
              "        0.6894685 , 0.73543307, 0.78139764, 0.8273622 , 0.87332677,\n",
              "        0.91929134, 0.96525591, 1.01122047, 1.05718504, 1.10314961,\n",
              "        1.14911417, 1.19507874, 1.24104331, 1.28700787, 1.33297244,\n",
              "        1.37893701, 1.42490157, 1.47086614, 1.51683071, 1.56279528,\n",
              "        1.60875984, 1.65472441, 1.70068898, 1.74665354, 1.79261811,\n",
              "        1.83858268]),\n",
              " <a list of 40 Patch objects>)"
            ]
          },
          "metadata": {
            "tags": []
          },
          "execution_count": 49
        },
        {
          "output_type": "display_data",
          "data": {
            "image/png": "[encoded data removed]",
            "text/plain": [
              "<Figure size 432x288 with 1 Axes>"
            ]
          },
          "metadata": {
            "tags": []
          }
        }
      ]
    },
    {
      "cell_type": "markdown",
      "metadata": {
        "id": "1OWYhl8a8d3N"
      },
      "source": [
        "## Comparison Operators as ufuncs"
      ]
    },
    {
      "cell_type": "code",
      "metadata": {
        "colab": {
          "base_uri": "https://localhost:8080/"
        },
        "id": "2ncJYGqY77B2",
        "outputId": "be31b17b-bea4-44dc-bf50-472282d3559f"
      },
      "source": [
        "x = np.array([1, 2, 3, 4, 5])\r\n",
        "\r\n",
        "x < 3 # less than\r\n",
        "x > 3 # greater than\r\n",
        "x <= 3 # less than or equal\r\n",
        "x >= 3 # greater than or equal\r\n",
        "x != 3 # not equal\r\n",
        "x == 3 # equal"
      ],
      "execution_count": 51,
      "outputs": [
        {
          "output_type": "execute_result",
          "data": {
            "text/plain": [
              "array([False, False,  True, False, False])"
            ]
          },
          "metadata": {
            "tags": []
          },
          "execution_count": 51
        }
      ]
    },
    {
      "cell_type": "code",
      "metadata": {
        "colab": {
          "base_uri": "https://localhost:8080/"
        },
        "id": "iHGYkYKs8rvl",
        "outputId": "db496cdc-6750-4911-cb98-6d75b0efc748"
      },
      "source": [
        "(2 * x) == (x ** 2)"
      ],
      "execution_count": 52,
      "outputs": [
        {
          "output_type": "execute_result",
          "data": {
            "text/plain": [
              "array([False,  True, False, False, False])"
            ]
          },
          "metadata": {
            "tags": []
          },
          "execution_count": 52
        }
      ]
    },
    {
      "cell_type": "markdown",
      "metadata": {
        "id": "rqVtmMFX9BIy"
      },
      "source": [
        "<html>\r\n",
        "<head>\r\n",
        "<style>\r\n",
        "table {\r\n",
        "  font-family: Times New Roman, sans-serif;\r\n",
        "  width: 100%;\r\n",
        "}\r\n",
        "td, th {\r\n",
        "  border: 2px solid #dddddd;\r\n",
        "  text-align: center;\r\n",
        "  padding: 8px;\r\n",
        "}\r\n",
        "tr:nth-child(even) {\r\n",
        "  background-color: #dddddd;\r\n",
        "}\r\n",
        "</style>\r\n",
        "</head>\r\n",
        "\r\n",
        "<body>\r\n",
        "<table>\r\n",
        "  <tr>  \r\n",
        "    <th>Operator</th>\r\n",
        "    <th>Equivalent ufunc</th>\r\n",
        "  </tr>\r\n",
        "  <tr>\r\n",
        "    <td>==</td>\r\n",
        "    <td>np.equal</td>\r\n",
        "  </tr>\r\n",
        "  <tr>\r\n",
        "    <td>!=</td>\r\n",
        "    <td>np.not_equal</td>\r\n",
        "  </tr>\r\n",
        "  <tr>\r\n",
        "    <td><</td>\r\n",
        "    <td>np.less</td>\r\n",
        "  </tr>\r\n",
        "  <tr>\r\n",
        "    <td><=</td>\r\n",
        "    <td>np.less_equal</td>\r\n",
        "  </tr>\r\n",
        "  <tr>\r\n",
        "    <td>></td>\r\n",
        "    <td>np.greater</td>\r\n",
        "  </tr>\r\n",
        "  <tr>\r\n",
        "    <td>>=</td>\r\n",
        "    <td>np.greater_equal</td>\r\n",
        "  </tr>\r\n",
        "</table>\r\n",
        "\r\n",
        "</body>\r\n",
        "</html>"
      ]
    },
    {
      "cell_type": "code",
      "metadata": {
        "colab": {
          "base_uri": "https://localhost:8080/"
        },
        "id": "D8k3ego_88gR",
        "outputId": "49557fb3-d331-47f5-9efc-93afa5bacc09"
      },
      "source": [
        "rng = np.random.RandomState(0)\r\n",
        "x = rng.randint(10, size=(3, 4))\r\n",
        "x"
      ],
      "execution_count": 53,
      "outputs": [
        {
          "output_type": "execute_result",
          "data": {
            "text/plain": [
              "array([[5, 0, 3, 3],\n",
              "       [7, 9, 3, 5],\n",
              "       [2, 4, 7, 6]])"
            ]
          },
          "metadata": {
            "tags": []
          },
          "execution_count": 53
        }
      ]
    },
    {
      "cell_type": "code",
      "metadata": {
        "colab": {
          "base_uri": "https://localhost:8080/"
        },
        "id": "WFi6cjsL-Psw",
        "outputId": "b13299ca-8f46-4ea2-96d3-a503b77f2565"
      },
      "source": [
        "x < 6"
      ],
      "execution_count": 54,
      "outputs": [
        {
          "output_type": "execute_result",
          "data": {
            "text/plain": [
              "array([[ True,  True,  True,  True],\n",
              "       [False, False,  True,  True],\n",
              "       [ True,  True, False, False]])"
            ]
          },
          "metadata": {
            "tags": []
          },
          "execution_count": 54
        }
      ]
    },
    {
      "cell_type": "markdown",
      "metadata": {
        "id": "NiEI_VAL-UX3"
      },
      "source": [
        "## Working with Boolean Arrays"
      ]
    },
    {
      "cell_type": "code",
      "metadata": {
        "colab": {
          "base_uri": "https://localhost:8080/"
        },
        "id": "LN7jkDfm-Rbx",
        "outputId": "2509bef4-d1b5-4f5d-a9e0-a178a878026f"
      },
      "source": [
        "x"
      ],
      "execution_count": 55,
      "outputs": [
        {
          "output_type": "execute_result",
          "data": {
            "text/plain": [
              "array([[5, 0, 3, 3],\n",
              "       [7, 9, 3, 5],\n",
              "       [2, 4, 7, 6]])"
            ]
          },
          "metadata": {
            "tags": []
          },
          "execution_count": 55
        }
      ]
    },
    {
      "cell_type": "markdown",
      "metadata": {
        "id": "Z66Rtn-v-vUr"
      },
      "source": [
        "### Counting entries"
      ]
    },
    {
      "cell_type": "code",
      "metadata": {
        "colab": {
          "base_uri": "https://localhost:8080/"
        },
        "id": "tKMqgF2e-xN6",
        "outputId": "d51f3a91-c914-4551-ed99-0ad8970a607b"
      },
      "source": [
        "# how many values less than 6?\r\n",
        "np.count_nonzero(x < 6)"
      ],
      "execution_count": 56,
      "outputs": [
        {
          "output_type": "execute_result",
          "data": {
            "text/plain": [
              "8"
            ]
          },
          "metadata": {
            "tags": []
          },
          "execution_count": 56
        }
      ]
    },
    {
      "cell_type": "code",
      "metadata": {
        "colab": {
          "base_uri": "https://localhost:8080/"
        },
        "id": "JJ31yC0H_G3W",
        "outputId": "720b4846-f7e9-46a3-8aa3-82a120e6b9b7"
      },
      "source": [
        "np.sum(x < 6)"
      ],
      "execution_count": 57,
      "outputs": [
        {
          "output_type": "execute_result",
          "data": {
            "text/plain": [
              "8"
            ]
          },
          "metadata": {
            "tags": []
          },
          "execution_count": 57
        }
      ]
    },
    {
      "cell_type": "code",
      "metadata": {
        "colab": {
          "base_uri": "https://localhost:8080/"
        },
        "id": "jOVclfxO_fgb",
        "outputId": "c820c3e4-e42a-43c2-828a-c093dfe306c7"
      },
      "source": [
        "# how many values less than 6 in each row?\r\n",
        "np.sum(x < 6, axis=1)"
      ],
      "execution_count": 58,
      "outputs": [
        {
          "output_type": "execute_result",
          "data": {
            "text/plain": [
              "array([4, 2, 2])"
            ]
          },
          "metadata": {
            "tags": []
          },
          "execution_count": 58
        }
      ]
    },
    {
      "cell_type": "code",
      "metadata": {
        "colab": {
          "base_uri": "https://localhost:8080/"
        },
        "id": "6SH25h8W_qF3",
        "outputId": "291e9992-e7ff-4025-834a-6bfeec39bb76"
      },
      "source": [
        "# are there any values greater than 8?\r\n",
        "np.any(x > 8)"
      ],
      "execution_count": 59,
      "outputs": [
        {
          "output_type": "execute_result",
          "data": {
            "text/plain": [
              "True"
            ]
          },
          "metadata": {
            "tags": []
          },
          "execution_count": 59
        }
      ]
    },
    {
      "cell_type": "code",
      "metadata": {
        "colab": {
          "base_uri": "https://localhost:8080/"
        },
        "id": "_Pynxhl1AWMp",
        "outputId": "8bb30e99-29d7-46d0-cb9e-12f1eb4f982f"
      },
      "source": [
        "# are there any values less than zero?\r\n",
        "np.any(x < 0)"
      ],
      "execution_count": 60,
      "outputs": [
        {
          "output_type": "execute_result",
          "data": {
            "text/plain": [
              "False"
            ]
          },
          "metadata": {
            "tags": []
          },
          "execution_count": 60
        }
      ]
    },
    {
      "cell_type": "code",
      "metadata": {
        "colab": {
          "base_uri": "https://localhost:8080/"
        },
        "id": "wf8wD97QAYjF",
        "outputId": "294be44e-364a-47a4-f94a-fbfb3f1c446c"
      },
      "source": [
        "# are all values less than 10?\r\n",
        "np.all(x < 10)"
      ],
      "execution_count": 61,
      "outputs": [
        {
          "output_type": "execute_result",
          "data": {
            "text/plain": [
              "True"
            ]
          },
          "metadata": {
            "tags": []
          },
          "execution_count": 61
        }
      ]
    },
    {
      "cell_type": "code",
      "metadata": {
        "colab": {
          "base_uri": "https://localhost:8080/"
        },
        "id": "_8DsivifBGSX",
        "outputId": "eab83708-5326-4f72-b95c-84fe1770ddd9"
      },
      "source": [
        "# are all values equal to 6?\r\n",
        "np.all(x == 6)"
      ],
      "execution_count": 62,
      "outputs": [
        {
          "output_type": "execute_result",
          "data": {
            "text/plain": [
              "False"
            ]
          },
          "metadata": {
            "tags": []
          },
          "execution_count": 62
        }
      ]
    },
    {
      "cell_type": "code",
      "metadata": {
        "colab": {
          "base_uri": "https://localhost:8080/"
        },
        "id": "E2F6R81ZBJZd",
        "outputId": "21cf723f-6113-420c-a10f-712ee717a52f"
      },
      "source": [
        "# are all values in each row less than 8?\r\n",
        "np.all(x < 8, axis=1)"
      ],
      "execution_count": 63,
      "outputs": [
        {
          "output_type": "execute_result",
          "data": {
            "text/plain": [
              "array([ True, False,  True])"
            ]
          },
          "metadata": {
            "tags": []
          },
          "execution_count": 63
        }
      ]
    },
    {
      "cell_type": "markdown",
      "metadata": {
        "id": "TwR_iuEyBrMl"
      },
      "source": [
        "### Boolean operators"
      ]
    },
    {
      "cell_type": "code",
      "metadata": {
        "colab": {
          "base_uri": "https://localhost:8080/"
        },
        "id": "evKZ3qqTBNvp",
        "outputId": "6a01d24f-1a52-48cc-b5ff-3a4388d0d008"
      },
      "source": [
        "np.sum((inches > 0.5) & (inches < 1))"
      ],
      "execution_count": 64,
      "outputs": [
        {
          "output_type": "execute_result",
          "data": {
            "text/plain": [
              "29"
            ]
          },
          "metadata": {
            "tags": []
          },
          "execution_count": 64
        }
      ]
    },
    {
      "cell_type": "code",
      "metadata": {
        "colab": {
          "base_uri": "https://localhost:8080/"
        },
        "id": "bBLh2_K5G4Uf",
        "outputId": "49c7fbd3-a402-4830-ab2a-378c72854496"
      },
      "source": [
        "np.sum(~( (inches <= 0.5) | (inches >= 1) ))"
      ],
      "execution_count": 65,
      "outputs": [
        {
          "output_type": "execute_result",
          "data": {
            "text/plain": [
              "29"
            ]
          },
          "metadata": {
            "tags": []
          },
          "execution_count": 65
        }
      ]
    },
    {
      "cell_type": "markdown",
      "metadata": {
        "id": "6RdRWJA6G9ta"
      },
      "source": [
        "<html>\r\n",
        "<head>\r\n",
        "<style>\r\n",
        "table {\r\n",
        "  font-family: Times New Roman, sans-serif;\r\n",
        "  width: 100%;\r\n",
        "}\r\n",
        "td, th {\r\n",
        "  border: 2px solid #dddddd;\r\n",
        "  text-align: center;\r\n",
        "  padding: 8px;\r\n",
        "}\r\n",
        "tr:nth-child(even) {\r\n",
        "  background-color: #dddddd;\r\n",
        "}\r\n",
        "</style>\r\n",
        "</head>\r\n",
        "\r\n",
        "<body>\r\n",
        "<table>\r\n",
        "  <tr>  \r\n",
        "    <th>Operator</th>\r\n",
        "    <th>Equivalent ufunc</th>\r\n",
        "  </tr>\r\n",
        "  <tr>\r\n",
        "    <td>&</td>\r\n",
        "    <td>np.bitwise_and</td>\r\n",
        "  </tr>\r\n",
        "  <tr>\r\n",
        "    <td>|</td>\r\n",
        "    <td>np.bitwise_or</td>\r\n",
        "  </tr>\r\n",
        "  <tr>\r\n",
        "    <td>^</td>\r\n",
        "    <td>np.bitwise_xor</td>\r\n",
        "  </tr>\r\n",
        "  <tr>\r\n",
        "    <td>~</td>\r\n",
        "    <td>np.bitwise_not</td>\r\n",
        "  </tr>\r\n",
        "</table>\r\n",
        "\r\n",
        "</body>\r\n",
        "</html>"
      ]
    },
    {
      "cell_type": "code",
      "metadata": {
        "colab": {
          "base_uri": "https://localhost:8080/"
        },
        "id": "2mQQk-cTHqdF",
        "outputId": "5c88357b-69b0-4868-e29d-16e1a651d3b7"
      },
      "source": [
        "print(\"Number days without rain: \", np.sum(inches == 0))\r\n",
        "print(\"Number days with rain: \", np.sum(inches != 0))\r\n",
        "print(\"Days with more than 0.5 inches:\", np.sum(inches > 0.5))\r\n",
        "print(\"Rainy days with < 0.1 inches :\", np.sum((inches > 0) & (inches < 0.2)))"
      ],
      "execution_count": 66,
      "outputs": [
        {
          "output_type": "stream",
          "text": [
            "Number days without rain:  215\n",
            "Number days with rain:  150\n",
            "Days with more than 0.5 inches: 37\n",
            "Rainy days with < 0.1 inches : 75\n"
          ],
          "name": "stdout"
        }
      ]
    },
    {
      "cell_type": "markdown",
      "metadata": {
        "id": "TIVQw2w8Bxds"
      },
      "source": [
        "## Boolean Arrays as Masks"
      ]
    },
    {
      "cell_type": "code",
      "metadata": {
        "colab": {
          "base_uri": "https://localhost:8080/"
        },
        "id": "w0IZ8js3B0Mu",
        "outputId": "cd597c2e-ad28-4741-ab73-b90b1702a95b"
      },
      "source": [
        "x"
      ],
      "execution_count": 67,
      "outputs": [
        {
          "output_type": "execute_result",
          "data": {
            "text/plain": [
              "array([[5, 0, 3, 3],\n",
              "       [7, 9, 3, 5],\n",
              "       [2, 4, 7, 6]])"
            ]
          },
          "metadata": {
            "tags": []
          },
          "execution_count": 67
        }
      ]
    },
    {
      "cell_type": "code",
      "metadata": {
        "colab": {
          "base_uri": "https://localhost:8080/"
        },
        "id": "5caF6WfWH7Xr",
        "outputId": "37e9475c-5d8a-49f4-87f6-0a310e81b15f"
      },
      "source": [
        "x < 5"
      ],
      "execution_count": 69,
      "outputs": [
        {
          "output_type": "execute_result",
          "data": {
            "text/plain": [
              "array([[False,  True,  True,  True],\n",
              "       [False, False,  True, False],\n",
              "       [ True,  True, False, False]])"
            ]
          },
          "metadata": {
            "tags": []
          },
          "execution_count": 69
        }
      ]
    },
    {
      "cell_type": "code",
      "metadata": {
        "colab": {
          "base_uri": "https://localhost:8080/"
        },
        "id": "FfVKM_0UKDFN",
        "outputId": "7c5efae6-983e-405f-f9a5-88306cecb355"
      },
      "source": [
        "x[x < 5]"
      ],
      "execution_count": 70,
      "outputs": [
        {
          "output_type": "execute_result",
          "data": {
            "text/plain": [
              "array([0, 3, 3, 3, 2, 4])"
            ]
          },
          "metadata": {
            "tags": []
          },
          "execution_count": 70
        }
      ]
    },
    {
      "cell_type": "code",
      "metadata": {
        "colab": {
          "base_uri": "https://localhost:8080/"
        },
        "id": "TetcnrWuKJIM",
        "outputId": "2be0ee15-dddd-47a5-97d1-62c9118e121e"
      },
      "source": [
        "# construct a mask of all rainy days\r\n",
        "rainy = (inches > 0)\r\n",
        "\r\n",
        "# construct a mask of all summer days (June 21st is the 172nd day)\r\n",
        "summer = (np.arange(365) - 172 < 90) & (np.arange(365) - 172 > 0)\r\n",
        "print(\"Median precip on rainy days in 2014 (inches): \", np.median(inches[rainy]))\r\n",
        "print(\"Median precip on summer days in 2014 (inches): \", np.median(inches[summer]))\r\n",
        "print(\"Maximum precip on summer days in 2014 (inches): \", np.max(inches[summer]))\r\n",
        "print(\"Median precip on non-summer rainy days (inches):\", np.median(inches[rainy & ~summer]))"
      ],
      "execution_count": 72,
      "outputs": [
        {
          "output_type": "stream",
          "text": [
            "Median precip on rainy days in 2014 (inches):  0.19488188976377951\n",
            "Median precip on summer days in 2014 (inches):  0.0\n",
            "Maximum precip on summer days in 2014 (inches):  0.8503937007874016\n",
            "Median precip on non-summer rainy days (inches): 0.20078740157480315\n"
          ],
          "name": "stdout"
        }
      ]
    },
    {
      "cell_type": "markdown",
      "metadata": {
        "id": "UGFIBFjqB0e5"
      },
      "source": [
        "## *Using the Keywords and/or Versus the Operators &/|*\r\n",
        "One common point of confusion is the difference between the keywords *and* and *or* on one hand, and the operators & and | on the other hand.\r\n",
        "\r\n",
        "The difference is this: *and* and *or* gauge the truth or falsehood of entire object, while & and | refer to bits within each object.\r\n",
        "\r\n",
        "When you use *and* or *or*, it’s equivalent to asking Python to treat the object as a single Boolean entity. In Python, all nonzero integers will evaluate as True. Thus:"
      ]
    },
    {
      "cell_type": "code",
      "metadata": {
        "colab": {
          "base_uri": "https://localhost:8080/"
        },
        "id": "FmurnLbpDUK-",
        "outputId": "61352268-3734-4392-8dad-1cea5ad3daa9"
      },
      "source": [
        "bool(42), bool(0)"
      ],
      "execution_count": 73,
      "outputs": [
        {
          "output_type": "execute_result",
          "data": {
            "text/plain": [
              "(True, False)"
            ]
          },
          "metadata": {
            "tags": []
          },
          "execution_count": 73
        }
      ]
    },
    {
      "cell_type": "code",
      "metadata": {
        "colab": {
          "base_uri": "https://localhost:8080/"
        },
        "id": "Dt6l1fDkLbxR",
        "outputId": "40680a6d-5ffc-42bf-c1f8-12c61480c36d"
      },
      "source": [
        "bool(42 and 0)"
      ],
      "execution_count": 74,
      "outputs": [
        {
          "output_type": "execute_result",
          "data": {
            "text/plain": [
              "False"
            ]
          },
          "metadata": {
            "tags": []
          },
          "execution_count": 74
        }
      ]
    },
    {
      "cell_type": "code",
      "metadata": {
        "colab": {
          "base_uri": "https://localhost:8080/"
        },
        "id": "rGpxYhGxLhmX",
        "outputId": "2019a2bf-47cd-4fac-c1e2-3840a0652d80"
      },
      "source": [
        "bool(42 or 0)"
      ],
      "execution_count": 75,
      "outputs": [
        {
          "output_type": "execute_result",
          "data": {
            "text/plain": [
              "True"
            ]
          },
          "metadata": {
            "tags": []
          },
          "execution_count": 75
        }
      ]
    },
    {
      "cell_type": "markdown",
      "metadata": {
        "id": "4qdqB9JcNmW0"
      },
      "source": [
        "When you use & and | on integers, the expression operates on the bits of the element, applying the *and* or the *or* to the individual bits making up the number:"
      ]
    },
    {
      "cell_type": "code",
      "metadata": {
        "colab": {
          "base_uri": "https://localhost:8080/",
          "height": 35
        },
        "id": "VjXVEZJfLjKG",
        "outputId": "8207d42c-ed83-4efd-8498-1b60b5128961"
      },
      "source": [
        "bin(42)"
      ],
      "execution_count": 76,
      "outputs": [
        {
          "output_type": "execute_result",
          "data": {
            "application/vnd.google.colaboratory.intrinsic+json": {
              "type": "string"
            },
            "text/plain": [
              "'0b101010'"
            ]
          },
          "metadata": {
            "tags": []
          },
          "execution_count": 76
        }
      ]
    },
    {
      "cell_type": "code",
      "metadata": {
        "colab": {
          "base_uri": "https://localhost:8080/",
          "height": 35
        },
        "id": "g09IXWHjNxKM",
        "outputId": "440bff05-3366-41b8-a766-255e317042c5"
      },
      "source": [
        "bin(59)"
      ],
      "execution_count": 77,
      "outputs": [
        {
          "output_type": "execute_result",
          "data": {
            "application/vnd.google.colaboratory.intrinsic+json": {
              "type": "string"
            },
            "text/plain": [
              "'0b111011'"
            ]
          },
          "metadata": {
            "tags": []
          },
          "execution_count": 77
        }
      ]
    },
    {
      "cell_type": "code",
      "metadata": {
        "colab": {
          "base_uri": "https://localhost:8080/",
          "height": 35
        },
        "id": "eY_JJDwxN1Rk",
        "outputId": "8d427c28-db18-4963-ffce-9a20013ec11d"
      },
      "source": [
        "bin(42 & 59)"
      ],
      "execution_count": 78,
      "outputs": [
        {
          "output_type": "execute_result",
          "data": {
            "application/vnd.google.colaboratory.intrinsic+json": {
              "type": "string"
            },
            "text/plain": [
              "'0b101010'"
            ]
          },
          "metadata": {
            "tags": []
          },
          "execution_count": 78
        }
      ]
    },
    {
      "cell_type": "code",
      "metadata": {
        "colab": {
          "base_uri": "https://localhost:8080/",
          "height": 35
        },
        "id": "1TbFrWVWOCHf",
        "outputId": "545b3a41-a03b-4708-de16-6798807f6d4c"
      },
      "source": [
        "bin(42 | 59)"
      ],
      "execution_count": 79,
      "outputs": [
        {
          "output_type": "execute_result",
          "data": {
            "application/vnd.google.colaboratory.intrinsic+json": {
              "type": "string"
            },
            "text/plain": [
              "'0b111011'"
            ]
          },
          "metadata": {
            "tags": []
          },
          "execution_count": 79
        }
      ]
    },
    {
      "cell_type": "markdown",
      "metadata": {
        "id": "RVF0yEPuOeC0"
      },
      "source": [
        "Notice that the corresponding bits of the binary representation are compared in order to yield the result.\r\n",
        "\r\n",
        "When you have an array of Boolean values in NumPy, this can be thought of as a string of bits where 1 = True and 0 = False, and the result of & and | operates in a similar manner as before:"
      ]
    },
    {
      "cell_type": "code",
      "metadata": {
        "colab": {
          "base_uri": "https://localhost:8080/"
        },
        "id": "y-0dZdjkOEjx",
        "outputId": "6c360636-5acd-4aed-bee8-13537eba6999"
      },
      "source": [
        "A = np.array([1, 0, 1, 0, 1, 0], dtype=bool)\r\n",
        "B = np.array([1, 1, 1, 0, 1, 1], dtype=bool)\r\n",
        "A | B"
      ],
      "execution_count": 80,
      "outputs": [
        {
          "output_type": "execute_result",
          "data": {
            "text/plain": [
              "array([ True,  True,  True, False,  True,  True])"
            ]
          },
          "metadata": {
            "tags": []
          },
          "execution_count": 80
        }
      ]
    },
    {
      "cell_type": "code",
      "metadata": {
        "id": "q3c2vjRjOprL"
      },
      "source": [
        ""
      ],
      "execution_count": null,
      "outputs": []
    }
  ]
}